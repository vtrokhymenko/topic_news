{
  "nbformat": 4,
  "nbformat_minor": 0,
  "metadata": {
    "colab": {
      "name": "NN.ipynb",
      "version": "0.3.2",
      "provenance": [],
      "private_outputs": true,
      "collapsed_sections": []
    },
    "kernelspec": {
      "name": "python3",
      "display_name": "Python 3"
    },
    "accelerator": "GPU"
  },
  "cells": [
    {
      "metadata": {
        "id": "sFJp_qmk7Kb_",
        "colab_type": "code",
        "colab": {}
      },
      "cell_type": "code",
      "source": [
        "from google.colab import drive\n",
        "drive.mount('/content/gdrive')"
      ],
      "execution_count": 0,
      "outputs": []
    },
    {
      "metadata": {
        "id": "4dLFHrvB7NQ9",
        "colab_type": "code",
        "colab": {}
      },
      "cell_type": "code",
      "source": [
        "import pandas as pd\n",
        "from keras.preprocessing.text import Tokenizer\n",
        "from keras.preprocessing.sequence import pad_sequences\n",
        "from keras.models import Sequential\n",
        "from keras.layers import Embedding,Flatten,Dense,Dropout,Bidirectional\n",
        "from keras.layers import LSTM\n",
        "from keras import regularizers"
      ],
      "execution_count": 0,
      "outputs": []
    },
    {
      "metadata": {
        "id": "r2swPpkaE-x0",
        "colab_type": "text"
      },
      "cell_type": "markdown",
      "source": [
        "Загружаем данные"
      ]
    },
    {
      "metadata": {
        "id": "43IrR1zn7O39",
        "colab_type": "code",
        "colab": {}
      },
      "cell_type": "code",
      "source": [
        "data_train = pd.read_csv('/content/gdrive/My Drive/data/data_train.csv')\n",
        "data_test = pd.read_csv('/content/gdrive/My Drive/data/data_test.csv')"
      ],
      "execution_count": 0,
      "outputs": []
    },
    {
      "metadata": {
        "id": "K04PvstSFGKY",
        "colab_type": "text"
      },
      "cell_type": "markdown",
      "source": [
        "Подготавливаем данные"
      ]
    },
    {
      "metadata": {
        "id": "S_GP3Qc9Jfl_",
        "colab_type": "code",
        "colab": {}
      },
      "cell_type": "code",
      "source": [
        "maxlen = 200 # отсечение остатка отзыва после 200 слов\n",
        "training_samples = 20000 #  Обучение на выборке из  20000 образцов\n",
        "validation_samples = 5000 # Проверка на выборке из 5 000\n",
        "max_words = 12000 #  Рассмотренные только 12000  наиболее часто используемых слов\n",
        "\n",
        "tokenizer = Tokenizer(num_words=max_words)\n",
        "tokenizer.fit_on_texts(data_train.text)\n",
        "sequence = tokenizer.texts_to_sequences(data_train.text)\n",
        "data = pad_sequences(sequence,maxlen=maxlen)\n",
        "\n",
        "x_train = data[:training_samples]\n",
        "y_train = data_train.target.values[:training_samples]\n",
        "x_val = data[training_samples:training_samples+validation_samples]\n",
        "y_val = data_train.target.values[training_samples:training_samples+validation_samples]\n",
        "\n",
        "model = Sequential()\n",
        "model.add(Embedding(12000,32))\n",
        "Dropout(0.1)\n",
        "model.add(LSTM(100))\n",
        "model.add(Dense(32,activation='relu'))\n",
        "model.add(Dense(1,activation='sigmoid'))\n",
        "model.summary()\n",
        "model.compile(optimizer = 'adam',loss='binary_crossentropy',metrics=['accuracy'])\n",
        "history = model.fit(x_train,y_train,epochs=8,batch_size=2048,validation_data=(x_val,y_val))"
      ],
      "execution_count": 0,
      "outputs": []
    },
    {
      "metadata": {
        "id": "ArsFUKyqlNgs",
        "colab_type": "text"
      },
      "cell_type": "markdown",
      "source": [
        "Готовим тестовые данные"
      ]
    },
    {
      "metadata": {
        "id": "YkT8rlzxKug4",
        "colab_type": "code",
        "colab": {}
      },
      "cell_type": "code",
      "source": [
        "sequence = tokenizer.texts_to_sequences(data_test.text)\n",
        "x_test = pad_sequences(sequence,maxlen=maxlen)\n",
        "y_test = data_test.target.values"
      ],
      "execution_count": 0,
      "outputs": []
    },
    {
      "metadata": {
        "id": "ajZ-qZOYldC7",
        "colab_type": "text"
      },
      "cell_type": "markdown",
      "source": [
        "проверям качество"
      ]
    },
    {
      "metadata": {
        "id": "peMFraZnLVai",
        "colab_type": "code",
        "colab": {}
      },
      "cell_type": "code",
      "source": [
        "model.evaluate(x_test,y_test)"
      ],
      "execution_count": 0,
      "outputs": []
    },
    {
      "metadata": {
        "id": "X1QQ3XXAlmct",
        "colab_type": "text"
      },
      "cell_type": "markdown",
      "source": [
        "сохраняем модели"
      ]
    },
    {
      "metadata": {
        "id": "xsUgot8PLlop",
        "colab_type": "code",
        "colab": {}
      },
      "cell_type": "code",
      "source": [
        "import pickle\n",
        "\n",
        "# saving\n",
        "with open('/content/gdrive/My Drive/data/tokenizer.pickle', 'wb') as handle:\n",
        "    pickle.dump(tokenizer, handle, protocol=pickle.HIGHEST_PROTOCOL)\n",
        "    \n",
        "with open('/content/gdrive/My Drive/data/model.pickle', 'wb') as handle:\n",
        "    pickle.dump(model, handle, protocol=pickle.HIGHEST_PROTOCOL)\n",
        "\n",
        "# loading\n",
        "#with open('tokenizer.pickle', 'rb') as handle:\n",
        "#    tokenizer = pickle.load(handle)"
      ],
      "execution_count": 0,
      "outputs": []
    },
    {
      "metadata": {
        "id": "_z3jR8eooKwt",
        "colab_type": "code",
        "colab": {}
      },
      "cell_type": "code",
      "source": [
        ""
      ],
      "execution_count": 0,
      "outputs": []
    }
  ]
}