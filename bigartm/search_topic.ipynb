{
 "cells": [
  {
   "cell_type": "code",
   "execution_count": 39,
   "metadata": {},
   "outputs": [],
   "source": [
    "import pandas as pd\n",
    "import preprocessing_tools as pr\n",
    "from cleanedNames import KeyProc\n",
    "import os\n",
    "cn = KeyProc()\n",
    "%reload_ext autoreload"
   ]
  },
  {
   "cell_type": "markdown",
   "metadata": {},
   "source": [
    "Порядок работы: \n",
    "\n",
    "     1) обрабатывается текст(препроцессинг, лемматизация) \n",
    "     2) Предсказывается рубрика. Сейчас  три рубрики: \"Интернет и сми\", \"Бизнес\", \"Спорт\" \n",
    "     3) В зависимости от рубрики, подключается нужная модель BigArtm и предсказывает,  подходящий по смыслу, топик "
   ]
  },
  {
   "cell_type": "code",
   "execution_count": 31,
   "metadata": {},
   "outputs": [],
   "source": [
    "dict_rub = {'Интернет и СМИ':'Internet_i_SMI','Бизнес':'Biznes','Спорт':'Sport'}"
   ]
  },
  {
   "cell_type": "code",
   "execution_count": 34,
   "metadata": {},
   "outputs": [],
   "source": [
    "# Текст  новости с сайта Лента из рубрики \"Интернет и сми\" 19:39, 26 февраля 2019\n",
    "text ='''Японский геймдизайнер Хидэо Кодзима опубликовал фотографию водки,чем привлек \n",
    "внимание русскоязычных комментаторов. Пост с алкоголем глава студии по разработке компьютерных игр \n",
    "выложил в Instagram.Россияне оставили множество комплиментов на странице Кодзимы. Большинство комментариев\n",
    "содержали слова «гений» и «гениальный», отсылая к мему про геймдизайнера.Юзеры также начали использовать эпитет\n",
    "«царь» по отношению к основателю игровой студии из-за марки водки на снимке.Один из пользователей с ником rodion_obrien\n",
    "предложил выдвинуть Кодзиму в президенты. Некоторые комментаторы предположили, что фотографии — это намек на появление\n",
    "в будущих играх русской озвучки.Накануне, 25 февраля, Кодзима опубликовал в Twitter несколько снимков с подарками от\n",
    "российского иллюстратора Ильи Кувшинова. Тот посетил студию Kojima Productions и одарил ее сотрудников картинами своего\n",
    "авторства.В январе 2018 года Кодзима создал аккаунт в \n",
    "Instagram, после этого русскоязычные юзеры оставили под публикациями похвалу в адрес геймдизайнера.'''"
   ]
  },
  {
   "cell_type": "code",
   "execution_count": 35,
   "metadata": {},
   "outputs": [
    {
     "name": "stdout",
     "output_type": "stream",
     "text": [
      "['японский', 'геймдизайнер', 'хидэо', 'кодзима', 'опубликовать', 'фотография', 'водкич', 'привлечь', 'внимание', 'русскоязычный', 'комментатор', 'пост', 'алкоголь', 'глава', 'студия', 'разработка', 'компьютерный', 'игра', 'выложить', 'instagram', 'россиянин', 'оставить', 'множество', 'комплимент', 'страница', 'кодзима', 'большинство', 'комментарий', 'содержимый', 'гений', 'гениальный', 'отсылать', 'мема', 'геймдизайнераюзер', 'начать', 'использовать', 'эпитет', 'царь', 'основатель', 'игровой', 'студия', 'изз', 'марка', 'водка', 'снимкеодин', 'пользователь', 'ник', 'rodionobrien', 'предложить', 'выдвинуть', 'кодзима', 'некоторый', 'комментатор', 'предположить', 'фотография', 'намёк', 'появление', 'будущий', 'игра', 'русский', 'озвучкинакануне', 'кодзима', 'опубликовать', 'twitter', 'снимок', 'подарок', 'российский', 'иллюстратор', 'илья', 'кувшинов', 'посетить', 'студия', 'kojima', 'productions', 'одарить', 'сотрудник', 'картина', 'авторствать', 'кодзима', 'создать', 'аккаунт', 'instagram', 'русскоязычный', 'юзер', 'оставить', 'публикация', 'похвала', 'адрес', 'геймдизайнер']\n"
     ]
    }
   ],
   "source": [
    "# Обработка текста  для предсказания рубрики\n",
    "text = pr.clean_text(text)\n",
    "text = cn.replaceKeywords(text)\n",
    "text = pr.lemmatization(text)\n",
    "print(text)\n"
   ]
  },
  {
   "cell_type": "code",
   "execution_count": 10,
   "metadata": {
    "collapsed": true
   },
   "outputs": [
    {
     "name": "stderr",
     "output_type": "stream",
     "text": [
      "/home/midzay/anaconda3/lib/python3.7/site-packages/sklearn/base.py:251: UserWarning: Trying to unpickle estimator CountVectorizer from version 0.19.2 when using version 0.20.1. This might lead to breaking code or invalid results. Use at your own risk.\n",
      "  UserWarning)\n"
     ]
    },
    {
     "name": "stdout",
     "output_type": "stream",
     "text": [
      "vect load ok\n",
      " X_vect_train ok\n"
     ]
    },
    {
     "name": "stderr",
     "output_type": "stream",
     "text": [
      "/home/midzay/anaconda3/lib/python3.7/site-packages/sklearn/base.py:251: UserWarning: Trying to unpickle estimator LinearSVC from version 0.19.2 when using version 0.20.1. This might lead to breaking code or invalid results. Use at your own risk.\n",
      "  UserWarning)\n"
     ]
    },
    {
     "ename": "NameError",
     "evalue": "name 'fit_model' is not defined",
     "output_type": "error",
     "traceback": [
      "\u001b[0;31m---------------------------------------------------------------------------\u001b[0m",
      "\u001b[0;31mNameError\u001b[0m                                 Traceback (most recent call last)",
      "\u001b[0;32m<ipython-input-10-4114c9769895>\u001b[0m in \u001b[0;36m<module>\u001b[0;34m\u001b[0m\n\u001b[1;32m     41\u001b[0m \u001b[0;34m\u001b[0m\u001b[0m\n\u001b[1;32m     42\u001b[0m \u001b[0;34m\u001b[0m\u001b[0m\n\u001b[0;32m---> 43\u001b[0;31m \u001b[0mfit_model\u001b[0m\u001b[0;34m(\u001b[0m\u001b[0mX_vect_train\u001b[0m\u001b[0;34m,\u001b[0m\u001b[0my\u001b[0m\u001b[0;34m,\u001b[0m\u001b[0;34m'104'\u001b[0m\u001b[0;34m)\u001b[0m\u001b[0;34m\u001b[0m\u001b[0;34m\u001b[0m\u001b[0m\n\u001b[0m",
      "\u001b[0;31mNameError\u001b[0m: name 'fit_model' is not defined"
     ]
    }
   ],
   "source": [
    "# Загружаем модели для предсказания рубрики\n",
    "PATHMODEL = 'data/model/' \n",
    "PATH_BIGARTM_MODEL='data/model/bigartm/'\n",
    "\n",
    "from sklearn.externals import joblib\n",
    "\n",
    "vect = joblib.load(PATHMODEL+'vect_file.pkl')\n",
    "linersvc = joblib.load(PATHMODEL+'model_for_18.pkl')\n",
    "print('load ok')\n",
    "\n",
    "\n",
    "\n"
   ]
  },
  {
   "cell_type": "code",
   "execution_count": 36,
   "metadata": {},
   "outputs": [
    {
     "name": "stdout",
     "output_type": "stream",
     "text": [
      "['японский,геймдизайнер,хидэо,кодзима,опубликовать,фотография,водкич,привлечь,внимание,русскоязычный,комментатор,пост,алкоголь,глава,студия,разработка,компьютерный,игра,выложить,instagram,россиянин,оставить,множество,комплимент,страница,кодзима,большинство,комментарий,содержимый,гений,гениальный,отсылать,мема,геймдизайнераюзер,начать,использовать,эпитет,царь,основатель,игровой,студия,изз,марка,водка,снимкеодин,пользователь,ник,rodionobrien,предложить,выдвинуть,кодзима,некоторый,комментатор,предположить,фотография,намёк,появление,будущий,игра,русский,озвучкинакануне,кодзима,опубликовать,twitter,снимок,подарок,российский,иллюстратор,илья,кувшинов,посетить,студия,kojima,productions,одарить,сотрудник,картина,авторствать,кодзима,создать,аккаунт,instagram,русскоязычный,юзер,оставить,публикация,похвала,адрес,геймдизайнер']\n"
     ]
    }
   ],
   "source": [
    "text_pred=[','.join(text)]\n",
    "print (text_pred)\n",
    "text_vect_train = vect.transform(text_pred)\n",
    "pred = linersvc.predict(text_vect_train)\n"
   ]
  },
  {
   "cell_type": "code",
   "execution_count": 37,
   "metadata": {},
   "outputs": [
    {
     "data": {
      "text/plain": [
       "'Интернет и СМИ'"
      ]
     },
     "execution_count": 37,
     "metadata": {},
     "output_type": "execute_result"
    }
   ],
   "source": [
    "pred[0]"
   ]
  },
  {
   "cell_type": "code",
   "execution_count": 25,
   "metadata": {},
   "outputs": [],
   "source": [
    "# Загружаем  модель для определения топика\n",
    "import sys\n",
    "sys.path.append('/home/midzay/Mlerning/bigartm/python')\n",
    "import artm"
   ]
  },
  {
   "cell_type": "code",
   "execution_count": 33,
   "metadata": {},
   "outputs": [],
   "source": [
    "model=artm.load_artm_model(f'/home/midzay/Mlerning/GitHUb/topic_news/bigartm/data/model/bigartm/{dict_rub[pred[0]]}/')"
   ]
  },
  {
   "cell_type": "code",
   "execution_count": 40,
   "metadata": {},
   "outputs": [],
   "source": [
    "vwpath= f'data/vwpath/999_input_bigartm.vw'\n",
    "with open(vwpath, 'w') as fp:\n",
    "    fp.write('| {}\\n'.format(' '.join(text)))\n",
    "    \n",
    "    # Создаем batches \n",
    "batches_path = f'data/batches/999'\n",
    "if not os.path.exists(batches_path):\n",
    "    os.makedirs(batches_path)\n",
    "    \n",
    "bv = artm.BatchVectorizer(data_path=vwpath,data_format='vowpal_wabbit',target_folder=batches_path)"
   ]
  },
  {
   "cell_type": "code",
   "execution_count": 41,
   "metadata": {},
   "outputs": [
    {
     "data": {
      "text/html": [
       "<div>\n",
       "<style scoped>\n",
       "    .dataframe tbody tr th:only-of-type {\n",
       "        vertical-align: middle;\n",
       "    }\n",
       "\n",
       "    .dataframe tbody tr th {\n",
       "        vertical-align: top;\n",
       "    }\n",
       "\n",
       "    .dataframe thead th {\n",
       "        text-align: right;\n",
       "    }\n",
       "</style>\n",
       "<table border=\"1\" class=\"dataframe\">\n",
       "  <thead>\n",
       "    <tr style=\"text-align: right;\">\n",
       "      <th></th>\n",
       "      <th>topic_0</th>\n",
       "      <th>topic_1</th>\n",
       "      <th>topic_2</th>\n",
       "      <th>topic_3</th>\n",
       "      <th>topic_4</th>\n",
       "      <th>topic_5</th>\n",
       "      <th>topic_6</th>\n",
       "      <th>topic_7</th>\n",
       "      <th>topic_8</th>\n",
       "      <th>topic_9</th>\n",
       "      <th>topic_10</th>\n",
       "      <th>topic_11</th>\n",
       "      <th>topic_12</th>\n",
       "      <th>topic_13</th>\n",
       "      <th>topic_14</th>\n",
       "    </tr>\n",
       "  </thead>\n",
       "  <tbody>\n",
       "    <tr>\n",
       "      <th>0</th>\n",
       "      <td>0.0</td>\n",
       "      <td>0.015097</td>\n",
       "      <td>0.022988</td>\n",
       "      <td>0.0</td>\n",
       "      <td>0.0</td>\n",
       "      <td>0.0</td>\n",
       "      <td>0.239324</td>\n",
       "      <td>0.0</td>\n",
       "      <td>0.0</td>\n",
       "      <td>0.405392</td>\n",
       "      <td>0.0</td>\n",
       "      <td>0.187578</td>\n",
       "      <td>0.0</td>\n",
       "      <td>0.129622</td>\n",
       "      <td>0.0</td>\n",
       "    </tr>\n",
       "  </tbody>\n",
       "</table>\n",
       "</div>"
      ],
      "text/plain": [
       "   topic_0   topic_1   topic_2  topic_3  topic_4  topic_5   topic_6  topic_7  \\\n",
       "0      0.0  0.015097  0.022988      0.0      0.0      0.0  0.239324      0.0   \n",
       "\n",
       "   topic_8   topic_9  topic_10  topic_11  topic_12  topic_13  topic_14  \n",
       "0      0.0  0.405392       0.0  0.187578       0.0  0.129622       0.0  "
      ]
     },
     "execution_count": 41,
     "metadata": {},
     "output_type": "execute_result"
    }
   ],
   "source": [
    "theta = model.transform(batch_vectorizer=bv)\n",
    "theta.T"
   ]
  },
  {
   "cell_type": "code",
   "execution_count": 51,
   "metadata": {},
   "outputs": [],
   "source": [
    "max_col =  theta.idxmax()[0]\n"
   ]
  },
  {
   "cell_type": "code",
   "execution_count": 52,
   "metadata": {},
   "outputs": [
    {
     "name": "stdout",
     "output_type": "stream",
     "text": [
      "topic_9: ['фотография' 'девушка' 'внимание' 'женщина' 'снимка' 'блогер' 'мужчина'\n",
      " 'комментарий' 'ребёнок' 'фото' 'написать' 'пост' 'обратить' 'очень'\n",
      " 'автор']\n"
     ]
    }
   ],
   "source": [
    "phi = model.get_phi()\n",
    "phi['word'] = phi.index\n",
    "phi['word']=phi.word.apply(lambda x: x[1])\n",
    "\n",
    "print(f\"{max_col}: {phi[[max_col, 'word']].sort_values(by=max_col, ascending=False)['word'].values[:15]}\")"
   ]
  },
  {
   "cell_type": "code",
   "execution_count": null,
   "metadata": {},
   "outputs": [],
   "source": []
  },
  {
   "cell_type": "code",
   "execution_count": null,
   "metadata": {},
   "outputs": [],
   "source": []
  },
  {
   "cell_type": "code",
   "execution_count": null,
   "metadata": {},
   "outputs": [],
   "source": []
  }
 ],
 "metadata": {
  "kernelspec": {
   "display_name": "Python 3",
   "language": "python",
   "name": "python3"
  },
  "language_info": {
   "codemirror_mode": {
    "name": "ipython",
    "version": 3
   },
   "file_extension": ".py",
   "mimetype": "text/x-python",
   "name": "python",
   "nbconvert_exporter": "python",
   "pygments_lexer": "ipython3",
   "version": "3.7.1"
  },
  "varInspector": {
   "cols": {
    "lenName": 16,
    "lenType": 16,
    "lenVar": 40
   },
   "kernels_config": {
    "python": {
     "delete_cmd_postfix": "",
     "delete_cmd_prefix": "del ",
     "library": "var_list.py",
     "varRefreshCmd": "print(var_dic_list())"
    },
    "r": {
     "delete_cmd_postfix": ") ",
     "delete_cmd_prefix": "rm(",
     "library": "var_list.r",
     "varRefreshCmd": "cat(var_dic_list()) "
    }
   },
   "types_to_exclude": [
    "module",
    "function",
    "builtin_function_or_method",
    "instance",
    "_Feature"
   ],
   "window_display": false
  }
 },
 "nbformat": 4,
 "nbformat_minor": 2
}
