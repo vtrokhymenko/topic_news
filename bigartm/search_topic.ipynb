{
 "cells": [
  {
   "cell_type": "code",
   "execution_count": 1,
   "metadata": {},
   "outputs": [],
   "source": [
    "import pandas as pd\n",
    "import preprocessing_tools as pr\n",
    "from cleanedNames import KeyProc\n",
    "import os\n",
    "cn = KeyProc()\n",
    "%reload_ext autoreload\n",
    "import warnings\n",
    "warnings.filterwarnings('ignore')\n"
   ]
  },
  {
   "cell_type": "markdown",
   "metadata": {},
   "source": [
    "Порядок работы: \n",
    "\n",
    "     1) Обрабатывается текст(препроцессинг, лемматизация) \n",
    "     2) Предсказывается рубрика. Сейчас  три рубрики: \"Интернет и сми\", \"Бизнес\", \"Спорт\" \n",
    "     3) В зависимости от рубрики, подключается нужная модель BigArtm и предсказывает,  подходящий по смыслу, топик "
   ]
  },
  {
   "cell_type": "code",
   "execution_count": 2,
   "metadata": {},
   "outputs": [],
   "source": [
    "dict_rub = {'Интернет и СМИ':'Internet_i_SMI','Бизнес':'Biznes','Спорт':'Sport'}"
   ]
  },
  {
   "cell_type": "code",
   "execution_count": 3,
   "metadata": {},
   "outputs": [],
   "source": [
    "# Текст  новости с сайта Лента из рубрики \"Интернет и сми\" 19:39, 26 февраля 2019\n",
    "text ='''Японский геймдизайнер Хидэо Кодзима опубликовал фотографию водки,чем привлек \n",
    "внимание русскоязычных комментаторов. Пост с алкоголем глава студии по разработке компьютерных игр \n",
    "выложил в Instagram.Россияне оставили множество комплиментов на странице Кодзимы. Большинство комментариев\n",
    "содержали слова «гений» и «гениальный», отсылая к мему про геймдизайнера.Юзеры также начали использовать эпитет\n",
    "«царь» по отношению к основателю игровой студии из-за марки водки на снимке.Один из пользователей с ником rodion_obrien\n",
    "предложил выдвинуть Кодзиму в президенты. Некоторые комментаторы предположили, что фотографии — это намек на появление\n",
    "в будущих играх русской озвучки.Накануне, 25 февраля, Кодзима опубликовал в Twitter несколько снимков с подарками от\n",
    "российского иллюстратора Ильи Кувшинова. Тот посетил студию Kojima Productions и одарил ее сотрудников картинами своего\n",
    "авторства.В январе 2018 года Кодзима создал аккаунт в \n",
    "Instagram, после этого русскоязычные юзеры оставили под публикациями похвалу в адрес геймдизайнера.'''"
   ]
  },
  {
   "cell_type": "code",
   "execution_count": 4,
   "metadata": {},
   "outputs": [],
   "source": [
    "text = ''' Екатерина Гордон, представитель жены футболиста «Зенита» Ивана Новосельцева Катерины Кейру, рассказала о претензиях клиентки к мужу. Ее слова приводит Sport24.\n",
    "Гордон заявила, что Кейру пытается урегулировать вопросы имущественного характера. «Господин Новосельцев позволил себе довольно нечестное поведение, которое стало достоянием его супруги. Если вопрос не будет урегулирован, это дело станет погромче распри Глушакова», — добавила она.\n",
    "Гордон отметила, что пока неясно, проводил Новосельцев манипуляции с недвижимостью сам или по чьему-то совету. Если окажется, что футболист виновен в случившемся, его ждут судебные разбирательства.\n",
    "Новосельцев стал игроком «Зенита» летом 2016-го. В 2018-м защитник был отдан в аренду сначала тульскому «Арсеналу», затем махачкалинскому «Анжи». До конца текущего сезона он находится на правах аренды в «Ростове».\n",
    "Кейру и Новосельцев поженились в октябре 2015-го года. В настоящее время супруга футболиста ждет ребенка.'''"
   ]
  },
  {
   "cell_type": "code",
   "execution_count": 4,
   "metadata": {},
   "outputs": [
    {
     "name": "stdout",
     "output_type": "stream",
     "text": [
      "['японский', 'геймдизайнер', 'хидэо', 'кодзима', 'опубликовать', 'фотография', 'водкич', 'привлечь', 'внимание', 'русскоязычный', 'комментатор', 'пост', 'алкоголь', 'глава', 'студия', 'разработка', 'компьютерный', 'игра', 'выложить', 'instagram', 'россиянин', 'оставить', 'множество', 'комплимент', 'страница', 'кодзима', 'большинство', 'комментарий', 'содержимый', 'гений', 'гениальный', 'отсылать', 'мема', 'геймдизайнераюзер', 'начать', 'использовать', 'эпитет', 'царь', 'основатель', 'игровой', 'студия', 'изз', 'марка', 'водка', 'снимкеодин', 'пользователь', 'ник', 'rodionobrien', 'предложить', 'выдвинуть', 'кодзима', 'некоторый', 'комментатор', 'предположить', 'фотография', 'намёк', 'появление', 'будущий', 'игра', 'русский', 'озвучкинакануне', 'кодзима', 'опубликовать', 'twitter', 'снимок', 'подарок', 'российский', 'иллюстратор', 'илья', 'кувшинов', 'посетить', 'студия', 'kojima', 'productions', 'одарить', 'сотрудник', 'картина', 'авторствать', 'кодзима', 'создать', 'аккаунт', 'instagram', 'русскоязычный', 'юзер', 'оставить', 'публикация', 'похвала', 'адрес', 'геймдизайнер']\n"
     ]
    }
   ],
   "source": [
    "# Обработка текста  для предсказания рубрики\n",
    "text = pr.clean_text(text)\n",
    "text = cn.replaceKeywords(text)\n",
    "text = pr.lemmatization(text)\n",
    "print(text)\n"
   ]
  },
  {
   "cell_type": "code",
   "execution_count": 5,
   "metadata": {},
   "outputs": [
    {
     "name": "stdout",
     "output_type": "stream",
     "text": [
      "load ok\n"
     ]
    }
   ],
   "source": [
    "# Загружаем модели для предсказания рубрики\n",
    "\n",
    "PATHMODEL = 'data/model/' \n",
    "PATH_BIGARTM_MODEL='data/model/bigartm/'\n",
    "\n",
    "from sklearn.externals import joblib\n",
    "\n",
    "vect = joblib.load(PATHMODEL+'vect_file.pkl')\n",
    "linersvc = joblib.load(PATHMODEL+'model_for_18.pkl')\n",
    "print('load ok')\n",
    "\n",
    "\n",
    "\n"
   ]
  },
  {
   "cell_type": "code",
   "execution_count": 6,
   "metadata": {},
   "outputs": [
    {
     "name": "stdout",
     "output_type": "stream",
     "text": [
      "['японский,геймдизайнер,хидэо,кодзима,опубликовать,фотография,водкич,привлечь,внимание,русскоязычный,комментатор,пост,алкоголь,глава,студия,разработка,компьютерный,игра,выложить,instagram,россиянин,оставить,множество,комплимент,страница,кодзима,большинство,комментарий,содержимый,гений,гениальный,отсылать,мема,геймдизайнераюзер,начать,использовать,эпитет,царь,основатель,игровой,студия,изз,марка,водка,снимкеодин,пользователь,ник,rodionobrien,предложить,выдвинуть,кодзима,некоторый,комментатор,предположить,фотография,намёк,появление,будущий,игра,русский,озвучкинакануне,кодзима,опубликовать,twitter,снимок,подарок,российский,иллюстратор,илья,кувшинов,посетить,студия,kojima,productions,одарить,сотрудник,картина,авторствать,кодзима,создать,аккаунт,instagram,русскоязычный,юзер,оставить,публикация,похвала,адрес,геймдизайнер']\n"
     ]
    }
   ],
   "source": [
    "text_pred=[','.join(text)]\n",
    "print (text_pred)\n",
    "text_vect_train = vect.transform(text_pred)\n",
    "pred = linersvc.predict(text_vect_train)\n"
   ]
  },
  {
   "cell_type": "code",
   "execution_count": 7,
   "metadata": {},
   "outputs": [
    {
     "data": {
      "text/plain": [
       "'Интернет и СМИ'"
      ]
     },
     "execution_count": 7,
     "metadata": {},
     "output_type": "execute_result"
    }
   ],
   "source": [
    "pred[0]"
   ]
  },
  {
   "cell_type": "code",
   "execution_count": null,
   "metadata": {},
   "outputs": [],
   "source": []
  },
  {
   "cell_type": "code",
   "execution_count": null,
   "metadata": {},
   "outputs": [],
   "source": []
  },
  {
   "cell_type": "code",
   "execution_count": 8,
   "metadata": {},
   "outputs": [],
   "source": [
    "PATH='data/all/'\n",
    "file =dict_rub[pred[0]]"
   ]
  },
  {
   "cell_type": "code",
   "execution_count": 9,
   "metadata": {},
   "outputs": [
    {
     "name": "stdout",
     "output_type": "stream",
     "text": [
      "      docID  year  month                                               text\n",
      "8928      0  2008      1  C 1 января 2008 года на территории Азербайджан...\n",
      "8929      1  2008      1  Специалисты по связям с общественностью америк...\n",
      "8930      2  2008      1  Состояние знаменитых наскальных росписей пещер...\n",
      "8931      3  2008      1  86 журналистов погибли на планете в 2007 году....\n",
      "8932      4  2008      1  Европейская система спутниковой навигации заго...\n",
      "CPU times: user 23.9 s, sys: 280 ms, total: 24.1 s\n",
      "Wall time: 24.3 s\n"
     ]
    }
   ],
   "source": [
    "%%time\n",
    "df = pd.read_csv(PATH+file+'.csv.bz2',usecols=['date','text'])\n",
    "df = df[df.text!='text']\n",
    "df['year'] = df['date'].apply(lambda x: int(x.split(' ')[0].split('-')[0]))\n",
    "df['month'] = df['date'].apply(lambda x: int(x.split(' ')[0].split('-')[1]))\n",
    "df = df[df.year>2007]\n",
    "df['docID'] = list(range(df.shape[0]))\n",
    "df = df[['docID','year','month','text']]\n",
    "print(df.head())"
   ]
  },
  {
   "cell_type": "code",
   "execution_count": 10,
   "metadata": {},
   "outputs": [
    {
     "data": {
      "text/html": [
       "<div>\n",
       "<style scoped>\n",
       "    .dataframe tbody tr th:only-of-type {\n",
       "        vertical-align: middle;\n",
       "    }\n",
       "\n",
       "    .dataframe tbody tr th {\n",
       "        vertical-align: top;\n",
       "    }\n",
       "\n",
       "    .dataframe thead th {\n",
       "        text-align: right;\n",
       "    }\n",
       "</style>\n",
       "<table border=\"1\" class=\"dataframe\">\n",
       "  <thead>\n",
       "    <tr style=\"text-align: right;\">\n",
       "      <th></th>\n",
       "      <th>year</th>\n",
       "      <th>month</th>\n",
       "      <th>text</th>\n",
       "    </tr>\n",
       "    <tr>\n",
       "      <th>docID</th>\n",
       "      <th></th>\n",
       "      <th></th>\n",
       "      <th></th>\n",
       "    </tr>\n",
       "  </thead>\n",
       "  <tbody>\n",
       "    <tr>\n",
       "      <th>0</th>\n",
       "      <td>2008</td>\n",
       "      <td>1</td>\n",
       "      <td>C 1 января 2008 года на территории Азербайджан...</td>\n",
       "    </tr>\n",
       "    <tr>\n",
       "      <th>1</th>\n",
       "      <td>2008</td>\n",
       "      <td>1</td>\n",
       "      <td>Специалисты по связям с общественностью америк...</td>\n",
       "    </tr>\n",
       "    <tr>\n",
       "      <th>2</th>\n",
       "      <td>2008</td>\n",
       "      <td>1</td>\n",
       "      <td>Состояние знаменитых наскальных росписей пещер...</td>\n",
       "    </tr>\n",
       "    <tr>\n",
       "      <th>3</th>\n",
       "      <td>2008</td>\n",
       "      <td>1</td>\n",
       "      <td>86 журналистов погибли на планете в 2007 году....</td>\n",
       "    </tr>\n",
       "    <tr>\n",
       "      <th>4</th>\n",
       "      <td>2008</td>\n",
       "      <td>1</td>\n",
       "      <td>Европейская система спутниковой навигации заго...</td>\n",
       "    </tr>\n",
       "  </tbody>\n",
       "</table>\n",
       "</div>"
      ],
      "text/plain": [
       "       year  month                                               text\n",
       "docID                                                                \n",
       "0      2008      1  C 1 января 2008 года на территории Азербайджан...\n",
       "1      2008      1  Специалисты по связям с общественностью америк...\n",
       "2      2008      1  Состояние знаменитых наскальных росписей пещер...\n",
       "3      2008      1  86 журналистов погибли на планете в 2007 году....\n",
       "4      2008      1  Европейская система спутниковой навигации заго..."
      ]
     },
     "execution_count": 10,
     "metadata": {},
     "output_type": "execute_result"
    }
   ],
   "source": [
    "df.index=df['docID']\n",
    "del df['docID']\n",
    "df.head()"
   ]
  },
  {
   "cell_type": "code",
   "execution_count": null,
   "metadata": {},
   "outputs": [],
   "source": []
  },
  {
   "cell_type": "code",
   "execution_count": 11,
   "metadata": {},
   "outputs": [],
   "source": [
    "# Загружаем  модель для определения топика\n",
    "import sys\n",
    "sys.path.append('/home/midzay/Mlerning/bigartm/python')\n",
    "import artm"
   ]
  },
  {
   "cell_type": "code",
   "execution_count": 12,
   "metadata": {},
   "outputs": [],
   "source": [
    "model=artm.load_artm_model(f'/home/midzay/Mlerning/GitHUb/topic_news/bigartm/data/model/bigartm/{dict_rub[pred[0]]}/')"
   ]
  },
  {
   "cell_type": "code",
   "execution_count": 13,
   "metadata": {},
   "outputs": [],
   "source": [
    "vwpath= f'data/vwpath/999_input_bigartm.vw'\n",
    "with open(vwpath, 'w') as fp:\n",
    "    fp.write('| {}\\n'.format(' '.join(text)))\n",
    "    \n",
    "    # Создаем batches \n",
    "batches_path = f'data/batches/999'\n",
    "if not os.path.exists(batches_path):\n",
    "    os.makedirs(batches_path)\n",
    "    \n",
    "bv = artm.BatchVectorizer(data_path=vwpath,data_format='vowpal_wabbit',target_folder=batches_path)"
   ]
  },
  {
   "cell_type": "code",
   "execution_count": 14,
   "metadata": {},
   "outputs": [
    {
     "data": {
      "text/html": [
       "<div>\n",
       "<style scoped>\n",
       "    .dataframe tbody tr th:only-of-type {\n",
       "        vertical-align: middle;\n",
       "    }\n",
       "\n",
       "    .dataframe tbody tr th {\n",
       "        vertical-align: top;\n",
       "    }\n",
       "\n",
       "    .dataframe thead th {\n",
       "        text-align: right;\n",
       "    }\n",
       "</style>\n",
       "<table border=\"1\" class=\"dataframe\">\n",
       "  <thead>\n",
       "    <tr style=\"text-align: right;\">\n",
       "      <th></th>\n",
       "      <th>topic_0</th>\n",
       "      <th>topic_1</th>\n",
       "      <th>topic_2</th>\n",
       "      <th>topic_3</th>\n",
       "      <th>topic_4</th>\n",
       "      <th>topic_5</th>\n",
       "      <th>topic_6</th>\n",
       "      <th>topic_7</th>\n",
       "      <th>topic_8</th>\n",
       "      <th>topic_9</th>\n",
       "      <th>topic_10</th>\n",
       "      <th>topic_11</th>\n",
       "      <th>topic_12</th>\n",
       "      <th>topic_13</th>\n",
       "      <th>topic_14</th>\n",
       "    </tr>\n",
       "  </thead>\n",
       "  <tbody>\n",
       "    <tr>\n",
       "      <th>0</th>\n",
       "      <td>0.0</td>\n",
       "      <td>0.015097</td>\n",
       "      <td>0.022988</td>\n",
       "      <td>0.0</td>\n",
       "      <td>0.0</td>\n",
       "      <td>0.0</td>\n",
       "      <td>0.239324</td>\n",
       "      <td>0.0</td>\n",
       "      <td>0.0</td>\n",
       "      <td>0.405392</td>\n",
       "      <td>0.0</td>\n",
       "      <td>0.187578</td>\n",
       "      <td>0.0</td>\n",
       "      <td>0.129622</td>\n",
       "      <td>0.0</td>\n",
       "    </tr>\n",
       "  </tbody>\n",
       "</table>\n",
       "</div>"
      ],
      "text/plain": [
       "   topic_0   topic_1   topic_2  topic_3  topic_4  topic_5   topic_6  topic_7  \\\n",
       "0      0.0  0.015097  0.022988      0.0      0.0      0.0  0.239324      0.0   \n",
       "\n",
       "   topic_8   topic_9  topic_10  topic_11  topic_12  topic_13  topic_14  \n",
       "0      0.0  0.405392       0.0  0.187578       0.0  0.129622       0.0  "
      ]
     },
     "execution_count": 14,
     "metadata": {},
     "output_type": "execute_result"
    }
   ],
   "source": [
    "# Матрица для  нового текста\n",
    "theta = model.transform(batch_vectorizer=bv)\n",
    "theta.T"
   ]
  },
  {
   "cell_type": "code",
   "execution_count": 15,
   "metadata": {},
   "outputs": [
    {
     "data": {
      "text/html": [
       "<div>\n",
       "<style scoped>\n",
       "    .dataframe tbody tr th:only-of-type {\n",
       "        vertical-align: middle;\n",
       "    }\n",
       "\n",
       "    .dataframe tbody tr th {\n",
       "        vertical-align: top;\n",
       "    }\n",
       "\n",
       "    .dataframe thead th {\n",
       "        text-align: right;\n",
       "    }\n",
       "</style>\n",
       "<table border=\"1\" class=\"dataframe\">\n",
       "  <thead>\n",
       "    <tr style=\"text-align: right;\">\n",
       "      <th></th>\n",
       "      <th>topic_0</th>\n",
       "      <th>topic_1</th>\n",
       "      <th>topic_2</th>\n",
       "      <th>topic_3</th>\n",
       "      <th>topic_4</th>\n",
       "      <th>topic_5</th>\n",
       "      <th>topic_6</th>\n",
       "      <th>topic_7</th>\n",
       "      <th>topic_8</th>\n",
       "      <th>topic_9</th>\n",
       "      <th>topic_10</th>\n",
       "      <th>topic_11</th>\n",
       "      <th>topic_12</th>\n",
       "      <th>topic_13</th>\n",
       "      <th>topic_14</th>\n",
       "    </tr>\n",
       "  </thead>\n",
       "  <tbody>\n",
       "    <tr>\n",
       "      <th>0</th>\n",
       "      <td>0.196016</td>\n",
       "      <td>0.315601</td>\n",
       "      <td>0.000000</td>\n",
       "      <td>0.000000</td>\n",
       "      <td>0.000000</td>\n",
       "      <td>0.433173</td>\n",
       "      <td>0.000000</td>\n",
       "      <td>0.000000</td>\n",
       "      <td>0.000000</td>\n",
       "      <td>0.055209</td>\n",
       "      <td>0.000000</td>\n",
       "      <td>0.000000</td>\n",
       "      <td>0.000000</td>\n",
       "      <td>0.000000</td>\n",
       "      <td>0.000000</td>\n",
       "    </tr>\n",
       "    <tr>\n",
       "      <th>1</th>\n",
       "      <td>0.000000</td>\n",
       "      <td>0.000000</td>\n",
       "      <td>0.000000</td>\n",
       "      <td>0.341485</td>\n",
       "      <td>0.000000</td>\n",
       "      <td>0.000000</td>\n",
       "      <td>0.000000</td>\n",
       "      <td>0.000000</td>\n",
       "      <td>0.000000</td>\n",
       "      <td>0.000000</td>\n",
       "      <td>0.623804</td>\n",
       "      <td>0.000000</td>\n",
       "      <td>0.034712</td>\n",
       "      <td>0.000000</td>\n",
       "      <td>0.000000</td>\n",
       "    </tr>\n",
       "    <tr>\n",
       "      <th>2</th>\n",
       "      <td>0.000000</td>\n",
       "      <td>0.000000</td>\n",
       "      <td>0.037303</td>\n",
       "      <td>0.000000</td>\n",
       "      <td>0.859281</td>\n",
       "      <td>0.000000</td>\n",
       "      <td>0.000000</td>\n",
       "      <td>0.000000</td>\n",
       "      <td>0.000000</td>\n",
       "      <td>0.042286</td>\n",
       "      <td>0.000000</td>\n",
       "      <td>0.061129</td>\n",
       "      <td>0.000000</td>\n",
       "      <td>0.000000</td>\n",
       "      <td>0.000000</td>\n",
       "    </tr>\n",
       "    <tr>\n",
       "      <th>3</th>\n",
       "      <td>0.103273</td>\n",
       "      <td>0.000000</td>\n",
       "      <td>0.105823</td>\n",
       "      <td>0.114913</td>\n",
       "      <td>0.000000</td>\n",
       "      <td>0.119416</td>\n",
       "      <td>0.017386</td>\n",
       "      <td>0.306959</td>\n",
       "      <td>0.000000</td>\n",
       "      <td>0.005016</td>\n",
       "      <td>0.012834</td>\n",
       "      <td>0.000000</td>\n",
       "      <td>0.060301</td>\n",
       "      <td>0.000000</td>\n",
       "      <td>0.154078</td>\n",
       "    </tr>\n",
       "    <tr>\n",
       "      <th>4</th>\n",
       "      <td>0.028877</td>\n",
       "      <td>0.000000</td>\n",
       "      <td>0.232749</td>\n",
       "      <td>0.000000</td>\n",
       "      <td>0.000000</td>\n",
       "      <td>0.000000</td>\n",
       "      <td>0.110474</td>\n",
       "      <td>0.051190</td>\n",
       "      <td>0.077827</td>\n",
       "      <td>0.164708</td>\n",
       "      <td>0.013326</td>\n",
       "      <td>0.122516</td>\n",
       "      <td>0.123363</td>\n",
       "      <td>0.041254</td>\n",
       "      <td>0.033717</td>\n",
       "    </tr>\n",
       "  </tbody>\n",
       "</table>\n",
       "</div>"
      ],
      "text/plain": [
       "    topic_0   topic_1   topic_2   topic_3   topic_4   topic_5   topic_6  \\\n",
       "0  0.196016  0.315601  0.000000  0.000000  0.000000  0.433173  0.000000   \n",
       "1  0.000000  0.000000  0.000000  0.341485  0.000000  0.000000  0.000000   \n",
       "2  0.000000  0.000000  0.037303  0.000000  0.859281  0.000000  0.000000   \n",
       "3  0.103273  0.000000  0.105823  0.114913  0.000000  0.119416  0.017386   \n",
       "4  0.028877  0.000000  0.232749  0.000000  0.000000  0.000000  0.110474   \n",
       "\n",
       "    topic_7   topic_8   topic_9  topic_10  topic_11  topic_12  topic_13  \\\n",
       "0  0.000000  0.000000  0.055209  0.000000  0.000000  0.000000  0.000000   \n",
       "1  0.000000  0.000000  0.000000  0.623804  0.000000  0.034712  0.000000   \n",
       "2  0.000000  0.000000  0.042286  0.000000  0.061129  0.000000  0.000000   \n",
       "3  0.306959  0.000000  0.005016  0.012834  0.000000  0.060301  0.000000   \n",
       "4  0.051190  0.077827  0.164708  0.013326  0.122516  0.123363  0.041254   \n",
       "\n",
       "   topic_14  \n",
       "0  0.000000  \n",
       "1  0.000000  \n",
       "2  0.000000  \n",
       "3  0.154078  \n",
       "4  0.033717  "
      ]
     },
     "execution_count": 15,
     "metadata": {},
     "output_type": "execute_result"
    }
   ],
   "source": [
    "# Матрица модели для предсказания похожих новостей\n",
    "theta_join =model.get_theta().T.reset_index()\n",
    "del theta_join['index']\n",
    "theta_join.head()"
   ]
  },
  {
   "cell_type": "code",
   "execution_count": 16,
   "metadata": {
    "scrolled": true
   },
   "outputs": [
    {
     "data": {
      "text/html": [
       "<div>\n",
       "<style scoped>\n",
       "    .dataframe tbody tr th:only-of-type {\n",
       "        vertical-align: middle;\n",
       "    }\n",
       "\n",
       "    .dataframe tbody tr th {\n",
       "        vertical-align: top;\n",
       "    }\n",
       "\n",
       "    .dataframe thead th {\n",
       "        text-align: right;\n",
       "    }\n",
       "</style>\n",
       "<table border=\"1\" class=\"dataframe\">\n",
       "  <thead>\n",
       "    <tr style=\"text-align: right;\">\n",
       "      <th></th>\n",
       "      <th>year</th>\n",
       "      <th>month</th>\n",
       "      <th>text</th>\n",
       "      <th>topic_0</th>\n",
       "      <th>topic_1</th>\n",
       "      <th>topic_2</th>\n",
       "      <th>topic_3</th>\n",
       "      <th>topic_4</th>\n",
       "      <th>topic_5</th>\n",
       "      <th>topic_6</th>\n",
       "      <th>topic_7</th>\n",
       "      <th>topic_8</th>\n",
       "      <th>topic_9</th>\n",
       "      <th>topic_10</th>\n",
       "      <th>topic_11</th>\n",
       "      <th>topic_12</th>\n",
       "      <th>topic_13</th>\n",
       "      <th>topic_14</th>\n",
       "    </tr>\n",
       "    <tr>\n",
       "      <th>docID</th>\n",
       "      <th></th>\n",
       "      <th></th>\n",
       "      <th></th>\n",
       "      <th></th>\n",
       "      <th></th>\n",
       "      <th></th>\n",
       "      <th></th>\n",
       "      <th></th>\n",
       "      <th></th>\n",
       "      <th></th>\n",
       "      <th></th>\n",
       "      <th></th>\n",
       "      <th></th>\n",
       "      <th></th>\n",
       "      <th></th>\n",
       "      <th></th>\n",
       "      <th></th>\n",
       "      <th></th>\n",
       "    </tr>\n",
       "  </thead>\n",
       "  <tbody>\n",
       "    <tr>\n",
       "      <th>0</th>\n",
       "      <td>2008</td>\n",
       "      <td>1</td>\n",
       "      <td>C 1 января 2008 года на территории Азербайджан...</td>\n",
       "      <td>0.196016</td>\n",
       "      <td>0.315601</td>\n",
       "      <td>0.0</td>\n",
       "      <td>0.000000</td>\n",
       "      <td>0.0</td>\n",
       "      <td>0.433173</td>\n",
       "      <td>0.0</td>\n",
       "      <td>0.0</td>\n",
       "      <td>0.0</td>\n",
       "      <td>0.055209</td>\n",
       "      <td>0.000000</td>\n",
       "      <td>0.0</td>\n",
       "      <td>0.000000</td>\n",
       "      <td>0.0</td>\n",
       "      <td>0.0</td>\n",
       "    </tr>\n",
       "    <tr>\n",
       "      <th>1</th>\n",
       "      <td>2008</td>\n",
       "      <td>1</td>\n",
       "      <td>Специалисты по связям с общественностью америк...</td>\n",
       "      <td>0.000000</td>\n",
       "      <td>0.000000</td>\n",
       "      <td>0.0</td>\n",
       "      <td>0.341485</td>\n",
       "      <td>0.0</td>\n",
       "      <td>0.000000</td>\n",
       "      <td>0.0</td>\n",
       "      <td>0.0</td>\n",
       "      <td>0.0</td>\n",
       "      <td>0.000000</td>\n",
       "      <td>0.623804</td>\n",
       "      <td>0.0</td>\n",
       "      <td>0.034712</td>\n",
       "      <td>0.0</td>\n",
       "      <td>0.0</td>\n",
       "    </tr>\n",
       "  </tbody>\n",
       "</table>\n",
       "</div>"
      ],
      "text/plain": [
       "       year  month                                               text  \\\n",
       "docID                                                                   \n",
       "0      2008      1  C 1 января 2008 года на территории Азербайджан...   \n",
       "1      2008      1  Специалисты по связям с общественностью америк...   \n",
       "\n",
       "        topic_0   topic_1  topic_2   topic_3  topic_4   topic_5  topic_6  \\\n",
       "docID                                                                      \n",
       "0      0.196016  0.315601      0.0  0.000000      0.0  0.433173      0.0   \n",
       "1      0.000000  0.000000      0.0  0.341485      0.0  0.000000      0.0   \n",
       "\n",
       "       topic_7  topic_8   topic_9  topic_10  topic_11  topic_12  topic_13  \\\n",
       "docID                                                                       \n",
       "0          0.0      0.0  0.055209  0.000000       0.0  0.000000       0.0   \n",
       "1          0.0      0.0  0.000000  0.623804       0.0  0.034712       0.0   \n",
       "\n",
       "       topic_14  \n",
       "docID            \n",
       "0           0.0  \n",
       "1           0.0  "
      ]
     },
     "execution_count": 16,
     "metadata": {},
     "output_type": "execute_result"
    }
   ],
   "source": [
    "# Соединяем  текст и theta\n",
    "joined = df.join(theta_join)\n",
    "joined.head(2)"
   ]
  },
  {
   "cell_type": "code",
   "execution_count": 17,
   "metadata": {},
   "outputs": [
    {
     "data": {
      "text/html": [
       "<div>\n",
       "<style scoped>\n",
       "    .dataframe tbody tr th:only-of-type {\n",
       "        vertical-align: middle;\n",
       "    }\n",
       "\n",
       "    .dataframe tbody tr th {\n",
       "        vertical-align: top;\n",
       "    }\n",
       "\n",
       "    .dataframe thead th {\n",
       "        text-align: right;\n",
       "    }\n",
       "</style>\n",
       "<table border=\"1\" class=\"dataframe\">\n",
       "  <thead>\n",
       "    <tr style=\"text-align: right;\">\n",
       "      <th></th>\n",
       "      <th>year</th>\n",
       "      <th>month</th>\n",
       "      <th>text</th>\n",
       "      <th>topic_0</th>\n",
       "      <th>topic_1</th>\n",
       "      <th>topic_2</th>\n",
       "      <th>topic_3</th>\n",
       "      <th>topic_4</th>\n",
       "      <th>topic_5</th>\n",
       "      <th>topic_6</th>\n",
       "      <th>topic_7</th>\n",
       "      <th>topic_8</th>\n",
       "      <th>topic_9</th>\n",
       "      <th>topic_10</th>\n",
       "      <th>topic_11</th>\n",
       "      <th>topic_12</th>\n",
       "      <th>topic_13</th>\n",
       "      <th>topic_14</th>\n",
       "    </tr>\n",
       "    <tr>\n",
       "      <th>docID</th>\n",
       "      <th></th>\n",
       "      <th></th>\n",
       "      <th></th>\n",
       "      <th></th>\n",
       "      <th></th>\n",
       "      <th></th>\n",
       "      <th></th>\n",
       "      <th></th>\n",
       "      <th></th>\n",
       "      <th></th>\n",
       "      <th></th>\n",
       "      <th></th>\n",
       "      <th></th>\n",
       "      <th></th>\n",
       "      <th></th>\n",
       "      <th></th>\n",
       "      <th></th>\n",
       "      <th></th>\n",
       "    </tr>\n",
       "  </thead>\n",
       "  <tbody>\n",
       "    <tr>\n",
       "      <th>41926</th>\n",
       "      <td>2019</td>\n",
       "      <td>1</td>\n",
       "      <td>- В Госдуме заявили о планах законодательно з...</td>\n",
       "      <td>0.197612</td>\n",
       "      <td>0.052050</td>\n",
       "      <td>0.0</td>\n",
       "      <td>0.068624</td>\n",
       "      <td>0.266465</td>\n",
       "      <td>0.0</td>\n",
       "      <td>0.044534</td>\n",
       "      <td>0.024111</td>\n",
       "      <td>0.216354</td>\n",
       "      <td>0.0</td>\n",
       "      <td>0.0</td>\n",
       "      <td>0.031027</td>\n",
       "      <td>0.0</td>\n",
       "      <td>0.000000</td>\n",
       "      <td>0.099224</td>\n",
       "    </tr>\n",
       "    <tr>\n",
       "      <th>41927</th>\n",
       "      <td>2019</td>\n",
       "      <td>1</td>\n",
       "      <td>- Съемочная группа RTL Info снимавшая в суббо...</td>\n",
       "      <td>0.144257</td>\n",
       "      <td>0.038239</td>\n",
       "      <td>0.0</td>\n",
       "      <td>0.000000</td>\n",
       "      <td>0.634313</td>\n",
       "      <td>0.0</td>\n",
       "      <td>0.000000</td>\n",
       "      <td>0.000000</td>\n",
       "      <td>0.103122</td>\n",
       "      <td>0.0</td>\n",
       "      <td>0.0</td>\n",
       "      <td>0.043774</td>\n",
       "      <td>0.0</td>\n",
       "      <td>0.015526</td>\n",
       "      <td>0.020770</td>\n",
       "    </tr>\n",
       "  </tbody>\n",
       "</table>\n",
       "</div>"
      ],
      "text/plain": [
       "       year  month                                               text  \\\n",
       "docID                                                                   \n",
       "41926  2019      1   - В Госдуме заявили о планах законодательно з...   \n",
       "41927  2019      1   - Съемочная группа RTL Info снимавшая в суббо...   \n",
       "\n",
       "        topic_0   topic_1  topic_2   topic_3   topic_4  topic_5   topic_6  \\\n",
       "docID                                                                       \n",
       "41926  0.197612  0.052050      0.0  0.068624  0.266465      0.0  0.044534   \n",
       "41927  0.144257  0.038239      0.0  0.000000  0.634313      0.0  0.000000   \n",
       "\n",
       "        topic_7   topic_8  topic_9  topic_10  topic_11  topic_12  topic_13  \\\n",
       "docID                                                                        \n",
       "41926  0.024111  0.216354      0.0       0.0  0.031027       0.0  0.000000   \n",
       "41927  0.000000  0.103122      0.0       0.0  0.043774       0.0  0.015526   \n",
       "\n",
       "       topic_14  \n",
       "docID            \n",
       "41926  0.099224  \n",
       "41927  0.020770  "
      ]
     },
     "execution_count": 17,
     "metadata": {},
     "output_type": "execute_result"
    }
   ],
   "source": [
    "joined.tail(2)"
   ]
  },
  {
   "cell_type": "code",
   "execution_count": null,
   "metadata": {},
   "outputs": [],
   "source": []
  },
  {
   "cell_type": "code",
   "execution_count": 18,
   "metadata": {},
   "outputs": [
    {
     "name": "stdout",
     "output_type": "stream",
     "text": [
      "topic_9: ['фотография' 'девушка' 'внимание' 'женщина' 'снимка' 'блогер' 'мужчина'\n",
      " 'комментарий' 'ребёнок' 'фото' 'написать' 'пост' 'обратить' 'очень'\n",
      " 'автор']\n"
     ]
    }
   ],
   "source": [
    "# Самый ближайший топик для нашей новой новости\n",
    "max_col =  theta.idxmax()[0]\n",
    "phi = model.get_phi()\n",
    "phi['word'] = phi.index\n",
    "phi['word']=phi.word.apply(lambda x: x[1])\n",
    "\n",
    "print(f\"{max_col}: {phi[[max_col, 'word']].sort_values(by=max_col, ascending=False)['word'].values[:15]}\")"
   ]
  },
  {
   "cell_type": "code",
   "execution_count": 19,
   "metadata": {},
   "outputs": [
    {
     "name": "stdout",
     "output_type": "stream",
     "text": [
      "topic_9: ['фотография' 'девушка' 'внимание' 'женщина' 'снимка' 'блогер' 'мужчина'\n",
      " 'комментарий' 'ребёнок' 'фото']\n",
      "topic_6: ['ролик' 'фильм' 'реклама' 'youtube' 'видео' 'рекламный' 'игра' 'сериал'\n",
      " 'просмотр' 'шоу']\n",
      "topic_11: ['аккаунт' 'вконтакте' 'запись' 'блог' 'микроблог' 'популярный' 'друг'\n",
      " 'фотография' 'instagram' 'администрация']\n",
      "topic_13: ['new' 'times' 'книга' 'кандидат' 'выбор' 'обама' 'партия' 'номер'\n",
      " 'основатель' 'post']\n",
      "topic_2: ['британский' 'news' 'великобритания' 'бибись' 'bbc' 'daily' 'житель'\n",
      " 'ребёнок' 'лондон' 'корпорация']\n"
     ]
    }
   ],
   "source": [
    "# Пять ближайших  топиков для новой новости\n",
    "cols = theta[0].sort_values(ascending=False).index[:5]\n",
    "phi = model.get_phi()\n",
    "phi['word'] = phi.index\n",
    "phi['word']=phi.word.apply(lambda x: x[1])\n",
    "\n",
    "for col in cols:\n",
    "    if col != 'word':\n",
    "        print(f\"{col}: {phi[[col, 'word']].sort_values(by=col, ascending=False)['word'].values[:10]}\")"
   ]
  },
  {
   "cell_type": "code",
   "execution_count": 20,
   "metadata": {},
   "outputs": [
    {
     "data": {
      "text/html": [
       "<div>\n",
       "<style scoped>\n",
       "    .dataframe tbody tr th:only-of-type {\n",
       "        vertical-align: middle;\n",
       "    }\n",
       "\n",
       "    .dataframe tbody tr th {\n",
       "        vertical-align: top;\n",
       "    }\n",
       "\n",
       "    .dataframe thead th {\n",
       "        text-align: right;\n",
       "    }\n",
       "</style>\n",
       "<table border=\"1\" class=\"dataframe\">\n",
       "  <thead>\n",
       "    <tr style=\"text-align: right;\">\n",
       "      <th></th>\n",
       "      <th>year</th>\n",
       "      <th>month</th>\n",
       "      <th>text</th>\n",
       "      <th>topic_0</th>\n",
       "      <th>topic_1</th>\n",
       "      <th>topic_2</th>\n",
       "      <th>topic_3</th>\n",
       "      <th>topic_4</th>\n",
       "      <th>topic_5</th>\n",
       "      <th>topic_6</th>\n",
       "      <th>topic_7</th>\n",
       "      <th>topic_8</th>\n",
       "      <th>topic_9</th>\n",
       "      <th>topic_10</th>\n",
       "      <th>topic_11</th>\n",
       "      <th>topic_12</th>\n",
       "      <th>topic_13</th>\n",
       "      <th>topic_14</th>\n",
       "    </tr>\n",
       "    <tr>\n",
       "      <th>docID</th>\n",
       "      <th></th>\n",
       "      <th></th>\n",
       "      <th></th>\n",
       "      <th></th>\n",
       "      <th></th>\n",
       "      <th></th>\n",
       "      <th></th>\n",
       "      <th></th>\n",
       "      <th></th>\n",
       "      <th></th>\n",
       "      <th></th>\n",
       "      <th></th>\n",
       "      <th></th>\n",
       "      <th></th>\n",
       "      <th></th>\n",
       "      <th></th>\n",
       "      <th></th>\n",
       "      <th></th>\n",
       "    </tr>\n",
       "  </thead>\n",
       "  <tbody>\n",
       "    <tr>\n",
       "      <th>35831</th>\n",
       "      <td>2014</td>\n",
       "      <td>10</td>\n",
       "      <td>- Люблинский суд Москвы признал неправомерным...</td>\n",
       "      <td>0.0</td>\n",
       "      <td>0.0</td>\n",
       "      <td>0.0</td>\n",
       "      <td>0.0</td>\n",
       "      <td>0.0</td>\n",
       "      <td>0.0</td>\n",
       "      <td>0.000000</td>\n",
       "      <td>0.000000</td>\n",
       "      <td>0.0</td>\n",
       "      <td>0.984080</td>\n",
       "      <td>0.0</td>\n",
       "      <td>0.015920</td>\n",
       "      <td>0.0</td>\n",
       "      <td>0.000000</td>\n",
       "      <td>0.0</td>\n",
       "    </tr>\n",
       "    <tr>\n",
       "      <th>35549</th>\n",
       "      <td>2014</td>\n",
       "      <td>8</td>\n",
       "      <td>– Украинский оператор мобильной связи \\\"МТС-У...</td>\n",
       "      <td>0.0</td>\n",
       "      <td>0.0</td>\n",
       "      <td>0.0</td>\n",
       "      <td>0.0</td>\n",
       "      <td>0.0</td>\n",
       "      <td>0.0</td>\n",
       "      <td>0.000000</td>\n",
       "      <td>0.012709</td>\n",
       "      <td>0.0</td>\n",
       "      <td>0.973890</td>\n",
       "      <td>0.0</td>\n",
       "      <td>0.013401</td>\n",
       "      <td>0.0</td>\n",
       "      <td>0.000000</td>\n",
       "      <td>0.0</td>\n",
       "    </tr>\n",
       "    <tr>\n",
       "      <th>35632</th>\n",
       "      <td>2014</td>\n",
       "      <td>9</td>\n",
       "      <td>- Создатели отсеивающих \\\"плохой контент\\\" ин...</td>\n",
       "      <td>0.0</td>\n",
       "      <td>0.0</td>\n",
       "      <td>0.0</td>\n",
       "      <td>0.0</td>\n",
       "      <td>0.0</td>\n",
       "      <td>0.0</td>\n",
       "      <td>0.035442</td>\n",
       "      <td>0.000000</td>\n",
       "      <td>0.0</td>\n",
       "      <td>0.964558</td>\n",
       "      <td>0.0</td>\n",
       "      <td>0.000000</td>\n",
       "      <td>0.0</td>\n",
       "      <td>0.000000</td>\n",
       "      <td>0.0</td>\n",
       "    </tr>\n",
       "    <tr>\n",
       "      <th>32017</th>\n",
       "      <td>2011</td>\n",
       "      <td>12</td>\n",
       "      <td>– Пока представители различных партий в завис...</td>\n",
       "      <td>0.0</td>\n",
       "      <td>0.0</td>\n",
       "      <td>0.0</td>\n",
       "      <td>0.0</td>\n",
       "      <td>0.0</td>\n",
       "      <td>0.0</td>\n",
       "      <td>0.024163</td>\n",
       "      <td>0.000000</td>\n",
       "      <td>0.0</td>\n",
       "      <td>0.959169</td>\n",
       "      <td>0.0</td>\n",
       "      <td>0.000000</td>\n",
       "      <td>0.0</td>\n",
       "      <td>0.016668</td>\n",
       "      <td>0.0</td>\n",
       "    </tr>\n",
       "    <tr>\n",
       "      <th>11437</th>\n",
       "      <td>2012</td>\n",
       "      <td>9</td>\n",
       "      <td>Министерство обороны США заключило с компаниям...</td>\n",
       "      <td>0.0</td>\n",
       "      <td>0.0</td>\n",
       "      <td>0.0</td>\n",
       "      <td>0.0</td>\n",
       "      <td>0.0</td>\n",
       "      <td>0.0</td>\n",
       "      <td>0.025276</td>\n",
       "      <td>0.000000</td>\n",
       "      <td>0.0</td>\n",
       "      <td>0.951122</td>\n",
       "      <td>0.0</td>\n",
       "      <td>0.000000</td>\n",
       "      <td>0.0</td>\n",
       "      <td>0.023601</td>\n",
       "      <td>0.0</td>\n",
       "    </tr>\n",
       "  </tbody>\n",
       "</table>\n",
       "</div>"
      ],
      "text/plain": [
       "       year  month                                               text  \\\n",
       "docID                                                                   \n",
       "35831  2014     10   - Люблинский суд Москвы признал неправомерным...   \n",
       "35549  2014      8   – Украинский оператор мобильной связи \\\"МТС-У...   \n",
       "35632  2014      9   - Создатели отсеивающих \\\"плохой контент\\\" ин...   \n",
       "32017  2011     12   – Пока представители различных партий в завис...   \n",
       "11437  2012      9  Министерство обороны США заключило с компаниям...   \n",
       "\n",
       "       topic_0  topic_1  topic_2  topic_3  topic_4  topic_5   topic_6  \\\n",
       "docID                                                                   \n",
       "35831      0.0      0.0      0.0      0.0      0.0      0.0  0.000000   \n",
       "35549      0.0      0.0      0.0      0.0      0.0      0.0  0.000000   \n",
       "35632      0.0      0.0      0.0      0.0      0.0      0.0  0.035442   \n",
       "32017      0.0      0.0      0.0      0.0      0.0      0.0  0.024163   \n",
       "11437      0.0      0.0      0.0      0.0      0.0      0.0  0.025276   \n",
       "\n",
       "        topic_7  topic_8   topic_9  topic_10  topic_11  topic_12  topic_13  \\\n",
       "docID                                                                        \n",
       "35831  0.000000      0.0  0.984080       0.0  0.015920       0.0  0.000000   \n",
       "35549  0.012709      0.0  0.973890       0.0  0.013401       0.0  0.000000   \n",
       "35632  0.000000      0.0  0.964558       0.0  0.000000       0.0  0.000000   \n",
       "32017  0.000000      0.0  0.959169       0.0  0.000000       0.0  0.016668   \n",
       "11437  0.000000      0.0  0.951122       0.0  0.000000       0.0  0.023601   \n",
       "\n",
       "       topic_14  \n",
       "docID            \n",
       "35831       0.0  \n",
       "35549       0.0  \n",
       "35632       0.0  \n",
       "32017       0.0  \n",
       "11437       0.0  "
      ]
     },
     "execution_count": 20,
     "metadata": {},
     "output_type": "execute_result"
    }
   ],
   "source": [
    "# Сортируем документы по  ближайшему топику к нашей новости\n",
    "joined.sort_values(by=max_col,ascending=False).head(5)"
   ]
  },
  {
   "cell_type": "code",
   "execution_count": 21,
   "metadata": {},
   "outputs": [],
   "source": [
    "a = joined.sort_values(by=max_col,ascending=False)['text'][:10].values"
   ]
  },
  {
   "cell_type": "code",
   "execution_count": 44,
   "metadata": {
    "scrolled": true
   },
   "outputs": [
    {
     "name": "stdout",
     "output_type": "stream",
     "text": [
      " - Люблинский суд Москвы признал неправомерным возврат Роскомнадзором оппозиционеру Алексею Навальному документов на регистрацию информационного агентства и обязал федеральную службу повторно рассмотреть его заявление.\\nКак передает корреспондент \\\"Интерфакса\\\" об этом говорится в постановлении судьи Юрия Лебедева оглашенном во вторник. Суд частично удовлетворил заявление Навального признав возврат документов на регистрацию СМИ неправомерным но отказав оппозиционеру в требовании обязать Роскомнадзор зарегистрировать его информационное агентство.\\nСогласно постановлению Роскомнадзор должен в установленном законом порядке повторно рассмотреть документы поданные Навальным а решение о регистрации \\\"суд не вправе рассматривать в данном процессе\\\".\\nНавальный сообщил в фейсбуке что 2 июня подал в Роскомнадзор заявление на регистрацию СМИ \\\"Информационное агентство Алексея Навального\\\". Однако ведомство вернуло ему заявление пояснив что Навальному необходимо документально подтвердить его соответствие требованиям ст.7 закона \\\"О средствах массовой информации\\\".\\nНавальный отметил что в соответствии с указанной статьей учредителям СМИ не может выступать гражданин не достигший 18-летнего возраста либо отбывающий наказание в местах лишения свободы по приговору суда либо душевнобольной признанный судом недееспособным. Также учреждать СМИ не может объединение граждан или организация деятельность которых запрещена по закону и гражданин другого государства а также лицо без гражданства не проживающее постоянно в РФ.\\n\\\"18 лет мне исполнилось иностранного гражданства нет в местах лишения свободы (пока) не нахожусь. Пусть приходят в суд и публично обосновывают свою позицию\\\" - написал Навальный в фейсбуке.\"\n",
      "\n",
      " – Украинский оператор мобильной связи \\\"МТС-Украина\\\" сообщил что отключение абонентов в Симферополе связано с тем что компания лишилась технической возможности осуществлять контроль над одним из ключевых объектов связи который находится на территории Крыма.\\n\\\"Компания предпринимает все возможные меры по выяснению причин происшествия и скорейшего восстановления связи. Приносим извинения абонентам и в оперативном режиме будем информировать их о ситуации со связью в Симферополе\\\" - говорится в сообщении на сайте \\\"МТС-Украина\\\".\\nРанее во вторник в Симферополе\\nбыла прекращена\\nработа оператора. В других регионах Крыма в частности в Ялте связь \\\"МТС-Украина\\\" работает. У крымских абонентов мобильной связи которые ранее купили и активировали сим-карты российского \\\"МТС\\\" на экранах мобильных телефонов вместо обозначения оператора MTS UKR теперь отображается MTS RUS.\\nВ то же время связь украинских мобильных операторов \\\"Киевстар\\\" и \\\"Астелит\\\" (бренд life:)) в Крыму продолжает работать.\\nРоссийское ООО \\\"К-Телеком\\\" 4 августа запустило сеть сотовой связи в Крыму. По данным источника в правительстве Крыма планируется что в течение 48 часов сеть \\\"МТС-Украина\\\" отключится по всему Крыму вместо нее начнет действовать сеть \\\"К-Телеком\\\". \\\"К-Телеком\\\" будет работать в Крыму под брендом Win Mobile.\"\n",
      "\n",
      " - Создатели отсеивающих \\\"плохой контент\\\" интернет-фильтров для школ должны отвечать за надлежащую работу программного обеспечения. Такие предложения содержатся в методических рекомендациях по ограничению интернет-доступа в образовательных организациях пишут \\\"Известия\\\".\\nПо данным издания документ согласован с министром связи Николаем Никифоровым и утвержден министром образования и науки Дмитрием Ливановым.\\nПоставщики систем контентной фильтрации не станут включать пункт о компенсации за возможную ненадлежащую работу ПО в договор с каждой школой считает гендиректор компании SkyDNS Дмитрий Вострецов. По его словам такой сценарий возможен в случае заключения крупного контракта но тогда поставщик учтет свои риски в цене ПО и оборудования.\\nСогласно закону \\\"О защите детей от информации причиняющей вред их здоровью и развитию\\\" на компьютерах в доступных детям местах необходимо устанавливать ПО обеспечивающее фильтрацию контента.\\nОбразовательные учреждения должны ограничивать доступ к противоречащей закону информации (порно нецензурная брань экстремизм пропаганда наркотиков и суицида). Также по решению Минобразования и Минкомсвязи школы будут запрещать доступ к сведениям не относящимся к учебному процессу: соцсети банки рефератов форумы онлайн-казино.\"\n",
      "\n",
      " – Пока представители различных партий в зависимости от принадлежности в полный голос говорили то о победе демократии то о ее поражении из-за нарушений на выборах демократия торжествовала. Вне официальных рапортов официальных сообщений ЦИК международных наблюдателей и политиков. Эти выборы в России стали принципиально новыми – это были выборы прозрачность которых для многих измерялась не абстрактными наблюдателями которых никто и никогда не знал а твоими близкими друзьями и теми кого ты записал в друзья в \\\"Фейсбук\\\" и \\\"Твиттер\\\". Именно они вне зависимости от официоза дали каждому составить возможность составить свое мнение об уровне прозрачности выборов нарушениях и действиях людей которые передвигались по столице на внедорожниках.\\nВыиграли эти выборы \\\"Фейсбук\\\" и \\\"Твиттер\\\" которые оказались самыми работоспособными и недоступными для хакеров. Это были первые выборы в истории современной России когда у нее был не только \\\"Живой журнал\\\" но и\\\"Твиттер\\\" и \\\"Фейсбук\\\". Это были первые выборы уровень доверия к которым тестировался в известной степени публично и прозрачно (и как жаждал в свое время протоиерей Чаплин уже даже зачастую не анонимно).\\nПосле того как утром отвалились сайты многих крупных информационных ресурсов а следом лег и оплот российский демократической мысли LiveJournal в \\\"Фейсбук\\\" стали распространяться шутки на тему того когда же хакеры решат обездвижить это пристанище свободной мысли. Пристанище уцелело и успешно агрегировало десятки и сотни сообщений из \\\"Твиттера\\\" роликов с Youtube ссылок на различные ресурсы о ходе выборов заливались фото писались комментарии пользователи с тысячами подписчиков у себя в аккаунтах собирали информацию о нарушениях.\\nТо что \\\"Фейсбук\\\" и \\\"Твиттер\\\" перехватили у LiveJournal пальму первенства\\nдемонстировала и статистика\\n. Даже не фоне выборов ЖЖ некогда главному центру политических дискуссий не удалось перехватить инициативу а во внутреннем соревновании выиграл \\\"Твиттер\\\" обычно уступающий \\\"Фейсбук\\\".\\nНарушения – вот главная тема политизированного российского \\\"Фейсбука\\\" и \\\"Твиттера\\\". Информация о нарушениях шла валом – по специально организованным каналам (как например\\nсделал OpenSpace\\n корреспонденты и читатели которого вели в \\\"Фейсбук\\\" онлайн-хронику) от случайных пользователей от друзей которые заметили например странный автобус у избирательного участка от журналистов которые отправились работать наблюдателями. Люди фиксировали шаг за шагом то что не показывали по телевизору. Нарушение за нарушением десятки нарушений каждое из которых фиксировали пользователи. В первую очередь в Москве. Городе для выборов традиционно сложном потому что найти здесь 99% избирателей которые согласятся голосовать за одну партию никогда не удавалось.\\n\\\"Весь фейсбук набит свидетельствами провала с невероятным треском едра в москве. От людей которые это реально видели. Смотрю россию 1 - результат яблока как завис на 26 как будто гвоздями прибили а едро переползло 50. Как будто не существует 10 миллионного города вообще. Негодяи\\\" - Елизавета Осетинская\\nглавный редактор Forbes \\\"Фейсбук\\\"\\n.\\n\\\"Ксения Леонова для Openspace.ru. 3.57. На одном из крылатских участков избирательная комиссия в полном составе - все женщины - заперлась в комнате и не выходит уже несколько часов. На все попытки яблочника-наблюдателя понять что же они там делают - визжат что переодеваются\\\" -\\nонлайн-хроника выборов OpenSpace\\n.\\n\\\"Из участка в Раменках где не дали вбросить 182 бюллетеня за ЕдРо молча ушла вся комиссия\\\" -\\n\\\"Твиттер\\\" корреспондента \\\"Коммерсанта\\\" Олеси Герасименко\\n.\\n\\\"Если из сегодняшнего дня посмотреть на президентские выборы в марте то это будет война. Лично готов ловить автобусы карусельщиков резать колеса и вязать гопоту. Возьмите меня в партизаны пожалуйста\\\" -\\nВиктор Саксон руководитель отдела интернет-технологий газеты \\\"Ведомости\\\" в \\\"Фейсбуке\\\".\\n\\\"Нарушений просто ВАЛ. Не успеваем фиксировать\\\" -\\n\\\"Твиттер\\\" Антикарусели\\n.\\nСоциальные сети и микроблоги отпраздновали победу гражданской активности. Зачем слушать каких-то абстрактных наблюдателей если вот она подборка роликов на Youtube живые записи в \\\"Фейсбуке\\\" и \\\"Твиттере\\\" от тех кто эти наблюдения фиксировал? Плюс еще комментарии – реакция. Что может быть интереснее чем репортажи журналистов об уличных акциях в \\\"Твиттере\\\" не вылощенные еще редакцией и коррекцией. Что может быть репрезентативнее чем фотографии наших избирательных участков с их хохломой на продажу и песнопениями. Что может быть занимательнее чем живая реакция руководства избирательных участок на действия конкретных наблюдателей с именами и фамилиями? Ухмыляющиеся лица полицейских журналисты в полицейских  автобусах непонятные отстранения наблюдателей в \\\"Фейсбуке\\\" и \\\"Твиттере\\\" – как фон для опрятных новостей о победе одной партии. Специфика момента когда каждый при желании мог стать участником и наблюдателем происходящего обеспечила вовлеченность. Хэштеги в \\\"Твиттере\\\" в частности самый популярный #выборы хоть и не пробились в мировые тренды отлично работала на внутреннюю среду.\\n\\\"Фейсбук\\\" и \\\"Твиттер\\\" не только аккумулировали возмущение и радости избирателей но и успешно спасали падающие от хакерских атак ресурсы. Выигрывали те чьи аккаунты в соцсетях и микроблогах были дееспособны. Именно они подхватывали новостные сообщения помогали в распространении альтернативных ссылок доступа.\\nНад активностью одних пользователей вовсю иронизировали другие – в тех же \\\"Фейсбуке\\\" и \\\"Твиттере\\\" говоря что в соцсети и микроблогах наблюдается подобие старых московских либеральных кухонь где много болтают но мало делают.\\n\\\"Представляю как сейчас либералы сидят у себя на кухнях обнявшись поют Окуджаву перечитывают френдленту Навального и грустят. Сказка :)\\\" -\\nКонстантин Рыков в \\\"Твиттере\\\"\\n.\\nНо пока над интернет-либералами смеялись в \\\"Фейсбуке\\\" \\\"Твиттере\\\" и LiveJournal уже практически \\\"переварили\\\" весь поток информации о нарушениях. И стали\\nрассылать приглашение на митинг на Чистых прудах\\nв понедельник вечером. Через \\\"Фейсбук\\\" на 04:00 приглашения получили более 8 тыс. человек из них почти 500 подтвердили свое участие. Как говорится в пояснении к событию в \\\"Фейсбуке\\\" митинг согласован с властями. Осталось только дождаться завтра и оценить насколько онлайн-возмущение может трансформироваться в оффлайн.\"\n",
      "\n",
      "Министерство обороны США заключило с компаниями Harris и Thales Communications контракты на поставку портативных программно-определяемых радиостанций, сообщает Defense Aerospace. Общая сумма сделок составила 766 миллионов долларов, однако если все опционы в рамках соглашений будут исполнены, она достигнет 1,3 миллиарда долларов. Какие конкретно радиостанции должны быть поставлены, не уточняется. Сумма сделки с Harris, одним из крупнейших поставщиков систем связи для вооруженных сил США, составила 397,5 миллиона долларов. Помимо раций, компания должна будет поставить военным различные дополнительные аксессуары, включая модуляторы и антенны. Поставка радиостанций должна завершиться в сентябре 2014 года. Если все опционы будут исполнены, сумма сделки увеличится до 712,8 миллионов долларов. Thales Communications получила контракт стоимость 368,7 миллиона долларов, с возможностью увеличения суммы сделки до 644,3 миллиона долларов. Условия этого соглашения аналогичны контракту, заключенному с Harris. Каждое соглашение заключено сроком на два года с возможностью двух продлений сроком на один каждое. Программно-определяемые радиостанции способны работать в любых частотных диапазонах связи и принимать различные виды модулированного сигнала. Кроме того, они позволяют связываться с сотовыми телефонами и средствами IP-телефонии. Все оборудование управляется программно и обеспечивает криптографическую защиту передаваемой информации, а также поддерживает работу с изменяющимися радиопротоколами.\n",
      "\n",
      " - Американский журнал о науке и технологиях Wired\\nконстатировал\\nтенденцию СМИ отказываться от комментариев пользователей на своих сайтах.\\nWired пишет что хотя привычные формы для отправки комментариев можно до сих пор найти на многих сайтах известных СМИ от The New York Times до Fox News и The Economist издания повально отказываются от этой функции считая ее в целом вредной и предлагая свои страницы в соцсетях как место для обсуждения.\\nПервым крупным изданием которое запретило у себя на сайте комментарии стал журнал Popular Science в 2013 году. Тогда издание сослалось на исследование согласно которому мнения читателей под статьей очень сильно влияют на восприятие текста.\\nС тех пор от комментариев отказались такие гиганты как CNN Reuters и Bloomberg а также сайты The Verge The Daily Beast и Motherboard (группа Vice).\\nКак\\nотмечает\\nинтернет-издание Tjournal схожая ситуация в начале 2014 года сложилась и в российских СМИ когда из-за обострения политической ситуации и изменений в законодательстве согласно которым издания стали нести ответственность за комментарии от них отказались \\\"Ведомости\\\". Возможность комментирования тогда ограничили \\\"Лента.ру\\\"  \\\"Газета.ру\\\" и Forbes.\"\n",
      "\n",
      " - Пресс-секретарь Управления экономической безопасности и противодействия коррупции московской полиции Ирина Волк будет вести новостную программу на телеканале РЕН ТВ сообщил \\\"Интерфаксу\\\" источник знакомый с деталями проекта.\\nПо его словам в ближайшее время Ирина Волк станет ведущей информационной программы которая будет выходить на телеканале по будним дням. Он уточнил что должность ведущей она будет совмещать со службой в ГУВД.\\nИрина Волк - подполковник полиции кандидат юридических наук автор нескольких книг: \\\"Враги моих друзей\\\" \\\"Искушение Модильяни\\\" \\\"Тайна старого замка\\\".\\nТелеканал РЕН ТВ - российский федеральный телеканал основным акционером которого является \\\"Национальная Медиа Группа\\\". РЕН ТВ входит во второй мультиплекс цифрового телевидения России программы телеканала принимают в 725 населённых пунктах России в том числе во всех крупных городах с населением более миллиона жителей. Согласно официальной информации телеканала потенциальная аудитория РЕН ТВ составляет 130 миллионов человек.\"\n",
      "\n",
      " - Хакер из США заявил что ему удалось взломать сайт российского МИДа. Об этом сообщает телеканал\\nCNN\\n.\\nХакер представившийся как Шут (The Jester) заявил журналистам что он устроил кибератаку на сайт российского внешнеполитического ведомства в пятницу ночью и оставил сообщение с призывом \\\"прекратить атаки на американцев\\\".\\nСогласно утверждению Шута он написал следующее: \\\"Товарищи! Мы прерываем программу вещания сайта Министерства иностранных дел РФ чтобы передать вам следующее важное сообщение. Перестаньте. Возможно у вас получается давить на соседние страны но это Америка. Это здесь никого не впечатлит\\\".\\nВ мире\\n07 октября 2016\\nСША обвинили Россию в хакерских атаках для вмешательства в избирательный процесс\\nЧитать подробнее\\nРоссийский МИД пока никак не прокомментировал это заявление. Никаких сообщений о кибератаках на сайт внешнеполитического ведомства за последние несколько дней не поступало.\\nПо словам Шута на взлом сайта МИД РФ его подвигли кибератаки которые как утверждается устроили российские хакеры с ведома властей страны.\\nЧиновники из США ранее обвиняли Россию в причастности к кибератакам на ресурсы предвыборного штаба кандидата в президенты от Демократической партии Хиллари Клинтон а некоторые американские эксперты заявляли что российские хакеры намерены дискредитировать избирательную систему США. Москва неоднократно отвергала подобные подозрения и просила предоставить доказательства чего сделано не было.\\nВ середине октября американский телеканал NBC сообщил со ссылкой на неназванных представителей разведки что администрация США отдала распоряжение ЦРУ готовиться к беспрецедентным кибератакам против РФ в ответ на якобы имевшее место вмешательство России в предвыборную кампанию в США.\"\n",
      "\n",
      "Американская художница Йоко Оно подписала пять случайных номеров крупнейшей шведской газеты DN перед тем, как они ушли в продажу, сообщает портал Creativity Online. Автограф художницы размещался на рекламном блоке, посвященном ее выставке в стокгольмском Moderna Museet. Идея рекламной кампании принадлежит агентству TBWA Stockholm. Рекламщики решили не просто разместить рекламный модуль в газете, а предложили художнице создать некий арт-объект под названием \"Ad Piece\" (\"Произведение рекламы\"). Он представляет собой белый лист с небольшой надписью посередине: \"Почувствуй газету в руках. Услышь шепот утра. Подумай о любимом человеке. Увидимся на выставке!\" Ранее Йоко Оно проводила несколько рекламных акций самостоятельно. Все они носили пацифистский характер. В 2002 году в память о теракте 11 сентября она на три месяца завесила крупный рекламный билборд Nescafe на площади Пикадилли в Лондоне. Поверх него художница разместила плакат со строчкой из песни \"Imagine\" ее бывшего мужа Джона Леннона \"\"Imagine all the people living life in peace\" (\"Представь, что все люди живут в мире\"). Аналогичные плакаты были размещены в США и Токио (на японском).  В 2003 году художница купила рекламные площади в ряде американских газет и разместила на них надпись \"Imagine\". Таким образом Оно выразила протест против войны в Ираке.\n",
      "\n",
      "Фотограф Андриус Бурба из Литвы решил посмотреть, как выглядят коты и кошки, если снимать их снизу. Проект получил название (Cats) Turned 180° («Кошки. Поворот на 180 градусов»). Все животные были сфотографированы во время выставки International Cat Show 2015 в Вильнюсе. Чтобы запечатлеть животных с необычного ракурса, автор использовал стеклянный стол. Съемка заняла около семи часов, а обработка фотографий — четыре недели. Как рассказал сам Бурба, на проект его вдохновили похожие фотографии, найденные в интернете.\n",
      "\n"
     ]
    }
   ],
   "source": [
    "# Выводим на печать 10 ближайших документов\n",
    "for i in range (a.shape[0]):\n",
    "    print (a[i]+'\\n')"
   ]
  },
  {
   "cell_type": "markdown",
   "metadata": {},
   "source": [
    "Косинусное расстояние"
   ]
  },
  {
   "cell_type": "code",
   "execution_count": 46,
   "metadata": {},
   "outputs": [
    {
     "data": {
      "text/html": [
       "<div>\n",
       "<style scoped>\n",
       "    .dataframe tbody tr th:only-of-type {\n",
       "        vertical-align: middle;\n",
       "    }\n",
       "\n",
       "    .dataframe tbody tr th {\n",
       "        vertical-align: top;\n",
       "    }\n",
       "\n",
       "    .dataframe thead th {\n",
       "        text-align: right;\n",
       "    }\n",
       "</style>\n",
       "<table border=\"1\" class=\"dataframe\">\n",
       "  <thead>\n",
       "    <tr style=\"text-align: right;\">\n",
       "      <th></th>\n",
       "      <th>topic_0</th>\n",
       "      <th>topic_1</th>\n",
       "      <th>topic_2</th>\n",
       "      <th>topic_3</th>\n",
       "      <th>topic_4</th>\n",
       "      <th>topic_5</th>\n",
       "      <th>topic_6</th>\n",
       "      <th>topic_7</th>\n",
       "      <th>topic_8</th>\n",
       "      <th>topic_9</th>\n",
       "      <th>topic_10</th>\n",
       "      <th>topic_11</th>\n",
       "      <th>topic_12</th>\n",
       "      <th>topic_13</th>\n",
       "      <th>topic_14</th>\n",
       "    </tr>\n",
       "  </thead>\n",
       "  <tbody>\n",
       "    <tr>\n",
       "      <th>0</th>\n",
       "      <td>0.0</td>\n",
       "      <td>0.015097</td>\n",
       "      <td>0.022988</td>\n",
       "      <td>0.0</td>\n",
       "      <td>0.0</td>\n",
       "      <td>0.0</td>\n",
       "      <td>0.239324</td>\n",
       "      <td>0.0</td>\n",
       "      <td>0.0</td>\n",
       "      <td>0.405392</td>\n",
       "      <td>0.0</td>\n",
       "      <td>0.187578</td>\n",
       "      <td>0.0</td>\n",
       "      <td>0.129622</td>\n",
       "      <td>0.0</td>\n",
       "    </tr>\n",
       "  </tbody>\n",
       "</table>\n",
       "</div>"
      ],
      "text/plain": [
       "   topic_0   topic_1   topic_2  topic_3  topic_4  topic_5   topic_6  topic_7  \\\n",
       "0      0.0  0.015097  0.022988      0.0      0.0      0.0  0.239324      0.0   \n",
       "\n",
       "   topic_8   topic_9  topic_10  topic_11  topic_12  topic_13  topic_14  \n",
       "0      0.0  0.405392       0.0  0.187578       0.0  0.129622       0.0  "
      ]
     },
     "execution_count": 46,
     "metadata": {},
     "output_type": "execute_result"
    }
   ],
   "source": [
    "#Вектор новой новости\n",
    "theta.T"
   ]
  },
  {
   "cell_type": "code",
   "execution_count": 47,
   "metadata": {},
   "outputs": [
    {
     "data": {
      "text/html": [
       "<div>\n",
       "<style scoped>\n",
       "    .dataframe tbody tr th:only-of-type {\n",
       "        vertical-align: middle;\n",
       "    }\n",
       "\n",
       "    .dataframe tbody tr th {\n",
       "        vertical-align: top;\n",
       "    }\n",
       "\n",
       "    .dataframe thead th {\n",
       "        text-align: right;\n",
       "    }\n",
       "</style>\n",
       "<table border=\"1\" class=\"dataframe\">\n",
       "  <thead>\n",
       "    <tr style=\"text-align: right;\">\n",
       "      <th></th>\n",
       "      <th>topic_0</th>\n",
       "      <th>topic_1</th>\n",
       "      <th>topic_2</th>\n",
       "      <th>topic_3</th>\n",
       "      <th>topic_4</th>\n",
       "      <th>topic_5</th>\n",
       "      <th>topic_6</th>\n",
       "      <th>topic_7</th>\n",
       "      <th>topic_8</th>\n",
       "      <th>topic_9</th>\n",
       "      <th>topic_10</th>\n",
       "      <th>topic_11</th>\n",
       "      <th>topic_12</th>\n",
       "      <th>topic_13</th>\n",
       "      <th>topic_14</th>\n",
       "    </tr>\n",
       "  </thead>\n",
       "  <tbody>\n",
       "    <tr>\n",
       "      <th>0</th>\n",
       "      <td>0.196016</td>\n",
       "      <td>0.315601</td>\n",
       "      <td>0.000000</td>\n",
       "      <td>0.000000</td>\n",
       "      <td>0.000000</td>\n",
       "      <td>0.433173</td>\n",
       "      <td>0.000000</td>\n",
       "      <td>0.000000</td>\n",
       "      <td>0.000000</td>\n",
       "      <td>0.055209</td>\n",
       "      <td>0.000000</td>\n",
       "      <td>0.000000</td>\n",
       "      <td>0.000000</td>\n",
       "      <td>0.000000</td>\n",
       "      <td>0.000000</td>\n",
       "    </tr>\n",
       "    <tr>\n",
       "      <th>1</th>\n",
       "      <td>0.000000</td>\n",
       "      <td>0.000000</td>\n",
       "      <td>0.000000</td>\n",
       "      <td>0.341485</td>\n",
       "      <td>0.000000</td>\n",
       "      <td>0.000000</td>\n",
       "      <td>0.000000</td>\n",
       "      <td>0.000000</td>\n",
       "      <td>0.000000</td>\n",
       "      <td>0.000000</td>\n",
       "      <td>0.623804</td>\n",
       "      <td>0.000000</td>\n",
       "      <td>0.034712</td>\n",
       "      <td>0.000000</td>\n",
       "      <td>0.000000</td>\n",
       "    </tr>\n",
       "    <tr>\n",
       "      <th>2</th>\n",
       "      <td>0.000000</td>\n",
       "      <td>0.000000</td>\n",
       "      <td>0.037303</td>\n",
       "      <td>0.000000</td>\n",
       "      <td>0.859281</td>\n",
       "      <td>0.000000</td>\n",
       "      <td>0.000000</td>\n",
       "      <td>0.000000</td>\n",
       "      <td>0.000000</td>\n",
       "      <td>0.042286</td>\n",
       "      <td>0.000000</td>\n",
       "      <td>0.061129</td>\n",
       "      <td>0.000000</td>\n",
       "      <td>0.000000</td>\n",
       "      <td>0.000000</td>\n",
       "    </tr>\n",
       "    <tr>\n",
       "      <th>3</th>\n",
       "      <td>0.103273</td>\n",
       "      <td>0.000000</td>\n",
       "      <td>0.105823</td>\n",
       "      <td>0.114913</td>\n",
       "      <td>0.000000</td>\n",
       "      <td>0.119416</td>\n",
       "      <td>0.017386</td>\n",
       "      <td>0.306959</td>\n",
       "      <td>0.000000</td>\n",
       "      <td>0.005016</td>\n",
       "      <td>0.012834</td>\n",
       "      <td>0.000000</td>\n",
       "      <td>0.060301</td>\n",
       "      <td>0.000000</td>\n",
       "      <td>0.154078</td>\n",
       "    </tr>\n",
       "    <tr>\n",
       "      <th>4</th>\n",
       "      <td>0.028877</td>\n",
       "      <td>0.000000</td>\n",
       "      <td>0.232749</td>\n",
       "      <td>0.000000</td>\n",
       "      <td>0.000000</td>\n",
       "      <td>0.000000</td>\n",
       "      <td>0.110474</td>\n",
       "      <td>0.051190</td>\n",
       "      <td>0.077827</td>\n",
       "      <td>0.164708</td>\n",
       "      <td>0.013326</td>\n",
       "      <td>0.122516</td>\n",
       "      <td>0.123363</td>\n",
       "      <td>0.041254</td>\n",
       "      <td>0.033717</td>\n",
       "    </tr>\n",
       "  </tbody>\n",
       "</table>\n",
       "</div>"
      ],
      "text/plain": [
       "    topic_0   topic_1   topic_2   topic_3   topic_4   topic_5   topic_6  \\\n",
       "0  0.196016  0.315601  0.000000  0.000000  0.000000  0.433173  0.000000   \n",
       "1  0.000000  0.000000  0.000000  0.341485  0.000000  0.000000  0.000000   \n",
       "2  0.000000  0.000000  0.037303  0.000000  0.859281  0.000000  0.000000   \n",
       "3  0.103273  0.000000  0.105823  0.114913  0.000000  0.119416  0.017386   \n",
       "4  0.028877  0.000000  0.232749  0.000000  0.000000  0.000000  0.110474   \n",
       "\n",
       "    topic_7   topic_8   topic_9  topic_10  topic_11  topic_12  topic_13  \\\n",
       "0  0.000000  0.000000  0.055209  0.000000  0.000000  0.000000  0.000000   \n",
       "1  0.000000  0.000000  0.000000  0.623804  0.000000  0.034712  0.000000   \n",
       "2  0.000000  0.000000  0.042286  0.000000  0.061129  0.000000  0.000000   \n",
       "3  0.306959  0.000000  0.005016  0.012834  0.000000  0.060301  0.000000   \n",
       "4  0.051190  0.077827  0.164708  0.013326  0.122516  0.123363  0.041254   \n",
       "\n",
       "   topic_14  \n",
       "0  0.000000  \n",
       "1  0.000000  \n",
       "2  0.000000  \n",
       "3  0.154078  \n",
       "4  0.033717  "
      ]
     },
     "execution_count": 47,
     "metadata": {},
     "output_type": "execute_result"
    }
   ],
   "source": [
    "# Матрица новостей рубрики \"Интернет и сми\"\n",
    "theta_join.head(5)"
   ]
  },
  {
   "cell_type": "code",
   "execution_count": 26,
   "metadata": {},
   "outputs": [],
   "source": [
    "import scipy.spatial.distance\n",
    "import numpy as np\n",
    "from numpy.linalg import norm"
   ]
  },
  {
   "cell_type": "code",
   "execution_count": 27,
   "metadata": {},
   "outputs": [],
   "source": [
    "u = theta_join.values\n",
    "u1 = theta_join[:1].values\n",
    "u1 = np.ravel(u1)"
   ]
  },
  {
   "cell_type": "code",
   "execution_count": 28,
   "metadata": {},
   "outputs": [],
   "source": [
    "theta_cos = theta.T\n",
    "v = theta_cos.values\n",
    "v.shape\n",
    "v = np.ravel(v)"
   ]
  },
  {
   "cell_type": "code",
   "execution_count": 29,
   "metadata": {},
   "outputs": [
    {
     "data": {
      "text/plain": [
       "0.9096071571111679"
      ]
     },
     "execution_count": 29,
     "metadata": {},
     "output_type": "execute_result"
    }
   ],
   "source": [
    "#Проверяем в ручную на первом векторе из матрицы\n",
    "cos_dot = np.dot(v, u1) / norm(u1) / norm(v)\n",
    "1-cos_dot"
   ]
  },
  {
   "cell_type": "code",
   "execution_count": 30,
   "metadata": {},
   "outputs": [],
   "source": [
    "#  В атоматическом режиме\n",
    "l=[]\n",
    "for i in range (u.shape[0]):\n",
    "    cos = scipy.spatial.distance.cosine(v,u[i])\n",
    "    l.append((cos,i))\n",
    "    "
   ]
  },
  {
   "cell_type": "code",
   "execution_count": 31,
   "metadata": {},
   "outputs": [
    {
     "data": {
      "text/plain": [
       "[(0.9096071571111679, 0),\n",
       " (1.0, 1),\n",
       " (0.9348361045122147, 2),\n",
       " (0.9602210037410259, 3),\n",
       " (0.3437389135360718, 4),\n",
       " (0.7669801265001297, 5),\n",
       " (0.7533206641674042, 6),\n",
       " (0.9069559797644615, 7),\n",
       " (0.5452775657176971, 8),\n",
       " (0.5755695700645447, 9)]"
      ]
     },
     "execution_count": 31,
     "metadata": {},
     "output_type": "execute_result"
    }
   ],
   "source": [
    "# Первые 10\n",
    "l[:10]"
   ]
  },
  {
   "cell_type": "code",
   "execution_count": 32,
   "metadata": {},
   "outputs": [
    {
     "data": {
      "text/plain": [
       "[(0.0037270784378051758, 17459),\n",
       " (0.015184938907623291, 37281),\n",
       " (0.01630300283432007, 4009),\n",
       " (0.01860886812210083, 17258),\n",
       " (0.02217942476272583, 11061),\n",
       " (0.023261427879333496, 38041),\n",
       " (0.02491682767868042, 32556),\n",
       " (0.026662707328796387, 37373),\n",
       " (0.028628170490264893, 36271),\n",
       " (0.028631269931793213, 38000)]"
      ]
     },
     "execution_count": 32,
     "metadata": {},
     "output_type": "execute_result"
    }
   ],
   "source": [
    "# Отсортированы по возрастанию\n",
    "sorted(l)[:10]"
   ]
  },
  {
   "cell_type": "markdown",
   "metadata": {},
   "source": [
    "### Несколько примеров самых близких новостей"
   ]
  },
  {
   "cell_type": "code",
   "execution_count": 38,
   "metadata": {},
   "outputs": [
    {
     "data": {
      "text/plain": [
       "'Исследователи из американской компании по информационной безопасности FireEye заявили, что российские хакеры взломали компьютеры Белого дома, используя сервис микроблогов Twitter. Об этом сообщает Reuters. В американской фирме считают, что хакеры создали вредоносный код Hammertoss, распространявшийся через популярную соцсеть. Специальный алгоритм каждый день генерировал новое сообщение на платформе Twitter с изображением и ссылкой, которая вела к серверу с вирусом. Также в твите присутствовал хэ'"
      ]
     },
     "execution_count": 38,
     "metadata": {},
     "output_type": "execute_result"
    }
   ],
   "source": [
    "joined.iloc[17459,2][:500]"
   ]
  },
  {
   "cell_type": "code",
   "execution_count": 39,
   "metadata": {},
   "outputs": [
    {
     "data": {
      "text/plain": [
       "' - Стартовавший в минувшую субботу на \\\\\"Первом канале\\\\\" документальный сериал \\\\\"Следствие покажет\\\\\" который ведет представитель СКР Владимир Маркин занял первое место среди передач в вечерний прайм-тайм.\\\\nСогласно данным международной исследовательской группы \\\\\"ТНС Гэллап Медиа\\\\\" доля аудитории сериала составила 129% среди всех передач во временном сегменте с 17:40 до 18:40 когда на телеканалах в основном идут новостные и развлекательные передачи.\\\\nКомментируя ситуацию Маркин заявил \\\\\"Интерфаксу'"
      ]
     },
     "execution_count": 39,
     "metadata": {},
     "output_type": "execute_result"
    }
   ],
   "source": [
    "joined.iloc[37281,2][:500]"
   ]
  },
  {
   "cell_type": "code",
   "execution_count": 40,
   "metadata": {},
   "outputs": [
    {
     "data": {
      "text/plain": [
       "'Итальянские власти обвинили четырех топ-менеджеров Google в нарушении закона о неприкосновенности частной жизни, пишет The International Herald Tribune. По мнению сотрудников миланской прокуратуры, сотрудники поисковика виноваты в том, что допустили размещение на итальянском видеохостинге Google Video оскорбительного ролика. В число обвиняемых попали старший вице-президент Google Дэвид Драммонд (David Drummond), бывший финдиректор компании Джордж Де Лос Рейес (George De Los Reyes), главный юриск'"
      ]
     },
     "execution_count": 40,
     "metadata": {},
     "output_type": "execute_result"
    }
   ],
   "source": [
    "joined.iloc[4009,2][:500]"
   ]
  },
  {
   "cell_type": "code",
   "execution_count": 43,
   "metadata": {},
   "outputs": [],
   "source": [
    "text ='''Японский геймдизайнер Хидэо Кодзима опубликовал фотографию водки,чем привлек \n",
    "внимание русскоязычных комментаторов. Пост с алкоголем глава студии по разработке компьютерных игр \n",
    "выложил в Instagram.Россияне оставили множество комплиментов на странице Кодзимы. Большинство комментариев\n",
    "содержали слова «гений» и «гениальный», отсылая к мему про геймдизайнера.Юзеры также начали использовать эпитет\n",
    "«царь» по отношению к основателю игровой студии из-за марки водки на снимке.Один из пользователей с ником rodion_obrien\n",
    "предложил выдвинуть Кодзиму в президенты. Некоторые комментаторы предположили, что фотографии — это намек на появление\n",
    "в будущих играх русской озвучки.Накануне, 25 февраля, Кодзима опубликовал в Twitter несколько снимков с подарками от\n",
    "российского иллюстратора Ильи Кувшинова. Тот посетил студию Kojima Productions и одарил ее сотрудников картинами своего\n",
    "авторства.В январе 2018 года Кодзима создал аккаунт в \n",
    "Instagram, после этого русскоязычные юзеры оставили под публикациями похвалу в адрес геймдизайнера.'''"
   ]
  },
  {
   "cell_type": "code",
   "execution_count": null,
   "metadata": {},
   "outputs": [],
   "source": []
  }
 ],
 "metadata": {
  "kernelspec": {
   "display_name": "Python 3",
   "language": "python",
   "name": "python3"
  },
  "language_info": {
   "codemirror_mode": {
    "name": "ipython",
    "version": 3
   },
   "file_extension": ".py",
   "mimetype": "text/x-python",
   "name": "python",
   "nbconvert_exporter": "python",
   "pygments_lexer": "ipython3",
   "version": "3.7.1"
  },
  "varInspector": {
   "cols": {
    "lenName": 16,
    "lenType": 16,
    "lenVar": 40
   },
   "kernels_config": {
    "python": {
     "delete_cmd_postfix": "",
     "delete_cmd_prefix": "del ",
     "library": "var_list.py",
     "varRefreshCmd": "print(var_dic_list())"
    },
    "r": {
     "delete_cmd_postfix": ") ",
     "delete_cmd_prefix": "rm(",
     "library": "var_list.r",
     "varRefreshCmd": "cat(var_dic_list()) "
    }
   },
   "types_to_exclude": [
    "module",
    "function",
    "builtin_function_or_method",
    "instance",
    "_Feature"
   ],
   "window_display": false
  }
 },
 "nbformat": 4,
 "nbformat_minor": 2
}
